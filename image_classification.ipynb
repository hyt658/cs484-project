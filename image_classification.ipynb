{
  "cells": [
    {
      "attachments": {},
      "cell_type": "markdown",
      "metadata": {
        "id": "UmLi2iCDfszJ"
      },
      "source": [
        "# **CS684 Project Report**\n",
        "\n",
        "Yutao (Frank) Han y326han@uwaterloo.ca"
      ]
    },
    {
      "cell_type": "markdown",
      "metadata": {
        "id": "YrJ5tBjJzBNm"
      },
      "source": [
        "# Introduction\n",
        "\n",
        "The rapid growth of digital images in recent years has led to an increasing demand for effective and efficient image classification techniques. In many practical scenarios, however, acquiring a large amount of labeled data for training supervised classifiers can be difficult and expensive. This challenge has led to the development of semi-supervised learning approaches, which aim to leverage both labeled and unlabeled data to improve classification performance. In this report, we present a novel semi-supervised image classification method designed to benefit from unlabeled examples in the training dataset.\n",
        "\n",
        "Our project focuses on the problem of semi-supervised image classification, where only M out of N images in the training data have ground truth labels. We implement a weakly supervised training framework for a classification network that can exploit the information present in unlabeled examples. For our experiments, we use the standard dataset CIFAR-10 while ignoring labels on a subset of training examples. We investigate how the performance of our proposed method changes as M gets progressively smaller, shedding light on the effectiveness of our approach in low-label data scenarios."
      ]
    },
    {
      "cell_type": "markdown",
      "metadata": {
        "id": "pzoEg_73Mkfo"
      },
      "source": [
        "# Group Members and Contributions\n",
        "- Yutao (Frank) Han: y326han@uwaterloo.ca\n",
        "  - Contribute to the base code. Start up the fundemental Pseudo-Labelling structure training and create the basic CNN model\n",
        "  - Run experiments for Pseudo-Labelling\n",
        "  - Rearrange the codes, add comments and texts to improve the readability of the report\n",
        "- Renjie Ni: r6ni@uwaterloo.ca\n",
        "  - Contribute to the improvement of Pseudo-Labelling structure training, and build the Resnet-Kmeans structure and training.\n",
        "  - Run experiments for Pseudo-Labelling and Resnet-Kmeans\n",
        "  - Organize and analyze experimental results, and write the corresponding sections of the report."
      ]
    },
    {
      "cell_type": "markdown",
      "metadata": {
        "id": "cTT_aM7R0txL"
      },
      "source": [
        "# Methodology"
      ]
    },
    {
      "cell_type": "markdown",
      "metadata": {
        "id": "diMVEPyrMqui"
      },
      "source": [
        "We tried two different approaches to inplement the semi-supervised image classification:  Pseudo-Labelling model and Resnet-Kmeans model."
      ]
    },
    {
      "cell_type": "markdown",
      "metadata": {
        "id": "c-pBYETfMtXh"
      },
      "source": [
        "## Pseudo-Labelling(modified Teacher-student model)\n",
        "Firstly, we have chosen a relatively simple structure called pseudo-labeling. Its core idea is to utilize a model already trained on labeled data to predict the labels for unlabeled data. These predicted pseudo-labels are then combined with the true labels as training data to further train the model. To make our description more vivid and easier to understand, we prefer to call this model a modified teacher-student model where the teacher aims to train a student that surpasses its own performance using the unlabeled data. The student then becomes the new teacher, and the process is repeated. \n",
        "Here is the procedure for training:\n",
        "1. Create a `Teacher` model, train it with the labeled data.\n",
        "2. Use the `Teacher` model to predict the unlabled data and create pseudo-label for them (collect ones that above threshold).\n",
        "3. For each pseudo-label, we only chose the top 250 data with high probability.\n",
        "4. Create a `Student` model, train it with the predicted data.\n",
        "5. If `Student`'s performance is better than `Teacher`, then we use the this `Student` as next `Teacher` and repeat step 2-5. Also, it means that the prediction taht this `Student` made is strong confident, so we move the prediction of this time to labled data. Make sure they are removed from unlabled data to avoid repeating.\n",
        "6. The training will stop when the performance of `Student` doesn't improve a lot in a certain times."
      ]
    },
    {
      "cell_type": "markdown",
      "metadata": {
        "id": "SkJIGSHqMzgk"
      },
      "source": [
        "## Resnet-Kmeans\n",
        "The second model we have chosen is a semi-supervised model that combines ResNet and KMeans, which we call the ResNet-KMeans model. Unlike pseudo-labeling, which aims to expand the labeled dataset, its core idea is to combine the cross-entropy loss on labeled data points with the (unsupervised) K-means clustering loss over deep features (e.g., in the last layer before the linear classifier).\n",
        "\n",
        "Here is the procedure for training:\n",
        "\n",
        "1. Create a `supervised model` (ResNet) and train it with the labeled data.\n",
        "2. Extract the `deep features` (e.g., in the last layer before the linear classifier) and use them to train a `K-means model`.\n",
        "3. Combine the `cross-entropy loss` from ResNet and the `K-means clustering loss` to form a new loss.\n",
        "4. Perform `backward propagation` based on the new loss and update the supervised model.\n",
        "5. Repeat this procedure until the performance of the supervised model does not improve significantly within a certain number of iterations."
      ]
    },
    {
      "cell_type": "markdown",
      "metadata": {
        "id": "b6VSg-jM0xcB"
      },
      "source": [
        "# Experiment"
      ]
    },
    {
      "cell_type": "markdown",
      "metadata": {
        "id": "M1po-Y8R1NoE"
      },
      "source": [
        "## Common codes"
      ]
    },
    {
      "cell_type": "markdown",
      "metadata": {
        "id": "rOr_zEZUuDYL"
      },
      "source": [
        "Here are common codes including import definitions of class or functions used by both 2 methods."
      ]
    },
    {
      "cell_type": "markdown",
      "metadata": {
        "id": "Wd9Io-Pd3j2-"
      },
      "source": [
        "### Import modules"
      ]
    },
    {
      "cell_type": "code",
      "execution_count": null,
      "metadata": {
        "id": "wpjk5UQc3jCz"
      },
      "outputs": [],
      "source": [
        "import os\n",
        "import torch\n",
        "import numpy as np\n",
        "import torch.nn as nn\n",
        "import torch.optim as optim\n",
        "import torch.nn.functional as F\n",
        "import torchvision.datasets as datasets\n",
        "import torchvision.transforms as transforms\n",
        "\n",
        "import copy\n",
        "from copy import deepcopy\n",
        "from google.colab import drive\n",
        "from collections import defaultdict\n",
        "from torch.utils.data import DataLoader, Subset, Dataset, ConcatDataset\n",
        "\n",
        "import pandas as pd\n",
        "import matplotlib.pyplot as plt"
      ]
    },
    {
      "cell_type": "markdown",
      "metadata": {
        "id": "NWRVMkgG1kFq"
      },
      "source": [
        "### Connected to google drive"
      ]
    },
    {
      "cell_type": "code",
      "execution_count": null,
      "metadata": {
        "colab": {
          "base_uri": "https://localhost:8080/"
        },
        "id": "TJhq8Mt8aXVn",
        "outputId": "a84f52fa-b8fa-4b46-f93d-98f4eef3f692"
      },
      "outputs": [
        {
          "name": "stdout",
          "output_type": "stream",
          "text": [
            "Mounted at /content/drive\n"
          ]
        }
      ],
      "source": [
        "# For testing, you do not need to run this cell\n",
        "drive.mount('/content/drive')\n",
        "project_folder = \"/content/drive/MyDrive/cs484-project\"\n",
        "os.chdir(project_folder)"
      ]
    },
    {
      "cell_type": "markdown",
      "metadata": {
        "id": "aAXJLN3QOJyC"
      },
      "source": [
        "### Global variable settings"
      ]
    },
    {
      "cell_type": "code",
      "execution_count": null,
      "metadata": {
        "id": "9UOJG4iHOJeV"
      },
      "outputs": [],
      "source": [
        "EPOCHES = 20\n",
        "BATCHES = 100\n",
        "WORKERS = 4\n",
        "\n",
        "MODEL_SAVE_PATH = \"./saved_model\"\n",
        "DEVICE = \"cuda\" if torch.cuda.is_available() else \"cpu\"\n",
        "\n",
        "if not os.path.exists(MODEL_SAVE_PATH):\n",
        "    os.mkdir(MODEL_SAVE_PATH)"
      ]
    },
    {
      "cell_type": "markdown",
      "metadata": {
        "id": "KX1hV6VKmCFq"
      },
      "source": [
        "### Definition of the CNN model\n",
        "We first try with normal CNN, but it does not have a very good performance."
      ]
    },
    {
      "cell_type": "code",
      "execution_count": null,
      "metadata": {
        "id": "5A5aSSlQmFRc"
      },
      "outputs": [],
      "source": [
        "class ImageClassifier(nn.Module):\n",
        "    def __init__(self):\n",
        "        super(ImageClassifier, self).__init__()\n",
        "        \n",
        "        self.conv1 = nn.Sequential(\n",
        "            nn.Conv2d(in_channels=3, out_channels=32, kernel_size=3, padding=1, stride=1),\n",
        "            nn.ReLU(),\n",
        "            nn.Conv2d(in_channels=32, out_channels=64, kernel_size=3, padding=1, stride=1),\n",
        "            nn.ReLU(),\n",
        "            nn.MaxPool2d(2, 2),\n",
        "        )\n",
        "\n",
        "        self.conv2 = nn.Sequential(\n",
        "            nn.Conv2d(in_channels=64, out_channels=128, kernel_size=3, padding=1, stride=1),\n",
        "            nn.ReLU(),\n",
        "            nn.Conv2d(in_channels=128, out_channels=128, kernel_size=3, padding=1, stride=1),\n",
        "            nn.ReLU(),\n",
        "            nn.MaxPool2d(2, 2),\n",
        "        )\n",
        "\n",
        "        self.conv3 = nn.Sequential(\n",
        "            nn.Conv2d(in_channels=128, out_channels=256, kernel_size=3, padding=1, stride=1),\n",
        "            nn.ReLU(),\n",
        "            nn.Conv2d(in_channels=256, out_channels=256, kernel_size=3, padding=1, stride=1),\n",
        "            nn.ReLU(),\n",
        "            nn.MaxPool2d(2, 2),\n",
        "        )\n",
        "\n",
        "        self.fc = nn.Sequential(    \n",
        "            nn.Flatten(),\n",
        "            nn.Linear(256 * 4 * 4, 1024),\n",
        "            nn.ReLU(),\n",
        "            nn.Linear(1024, 512),\n",
        "            nn.ReLU(),\n",
        "            nn.Linear(512, 10)\n",
        "        )\n",
        "\n",
        "    def forward(self, x):\n",
        "        x = self.conv1(x)\n",
        "        x = self.conv2(x)\n",
        "        x = self.conv3(x)\n",
        "        x = self.fc(x)\n",
        "        return x  "
      ]
    },
    {
      "cell_type": "markdown",
      "metadata": {
        "id": "N93ldQzUmP9n"
      },
      "source": [
        "### Definition of Resnet\n",
        "We fianlly try ResNet to be the model for training"
      ]
    },
    {
      "cell_type": "code",
      "execution_count": null,
      "metadata": {
        "id": "Aag8Q275mTeo"
      },
      "outputs": [],
      "source": [
        "class BasicBlock(nn.Module):\n",
        "    def __init__(self, in_channels, out_channels, stride=1):\n",
        "        super(BasicBlock, self).__init__()\n",
        "        self.conv1 = nn.Conv2d(in_channels, out_channels, kernel_size=3, stride=stride, padding=1, bias=False)\n",
        "        self.bn1 = nn.BatchNorm2d(out_channels)\n",
        "        self.relu = nn.ReLU(inplace=True)\n",
        "        self.conv2 = nn.Conv2d(out_channels, out_channels, kernel_size=3, stride=1, padding=1, bias=False)\n",
        "        self.bn2 = nn.BatchNorm2d(out_channels)\n",
        "        self.downsample = nn.Sequential()\n",
        "        if stride != 1 or in_channels != out_channels:\n",
        "            self.downsample = nn.Sequential(\n",
        "                nn.Conv2d(in_channels, out_channels, kernel_size=1, stride=stride, bias=False),\n",
        "                nn.BatchNorm2d(out_channels)\n",
        "            )\n",
        "\n",
        "    def forward(self, x):\n",
        "        identity = x\n",
        "        out = self.conv1(x)\n",
        "        out = self.bn1(out)\n",
        "        out = self.relu(out)\n",
        "        out = self.conv2(out)\n",
        "        out = self.bn2(out)\n",
        "        out += self.downsample(identity)\n",
        "        out = self.relu(out)\n",
        "        return out\n",
        "\n",
        "class ResNet(nn.Module):\n",
        "    def __init__(self, num_blocks, num_classes=10):\n",
        "      super(ResNet, self).__init__()\n",
        "      self.in_channels = 32\n",
        "      self.conv1 = nn.Conv2d(3, 32, kernel_size=3, stride=1, padding=1, bias=False)\n",
        "      self.bn1 = nn.BatchNorm2d(32)\n",
        "      self.relu = nn.ReLU(inplace=True)\n",
        "      self.layer1 = self.make_layer(BasicBlock, 32, num_blocks[0], stride=1)\n",
        "      self.layer2 = self.make_layer(BasicBlock, 64, num_blocks[1], stride=2)\n",
        "      self.layer3 = self.make_layer(BasicBlock, 128, num_blocks[2], stride=2)\n",
        "      self.layer4 = self.make_layer(BasicBlock, 256, num_blocks[3], stride=2)\n",
        "      self.avg_pool = nn.AdaptiveAvgPool2d((1, 1))\n",
        "      self.fc = nn.Linear(256, num_classes)\n",
        "\n",
        "    def make_layer(self, block, out_channels, num_blocks, stride):\n",
        "        strides = [stride] + [1] * (num_blocks - 1)\n",
        "        layers = []\n",
        "        for stride in strides:\n",
        "            layers.append(block(self.in_channels, out_channels, stride))\n",
        "            self.in_channels = out_channels\n",
        "        return nn.Sequential(*layers)\n",
        "\n",
        "    def forward(self, x):\n",
        "        out = self.conv1(x)\n",
        "        out = self.bn1(out)\n",
        "        out = self.relu(out)\n",
        "        out = self.layer1(out)\n",
        "        out = self.layer2(out)\n",
        "        out = self.layer3(out)\n",
        "        out = self.layer4(out)\n",
        "        out = self.avg_pool(out)\n",
        "        out = out.reshape(out.shape[0], -1)\n",
        "        out = self.fc(out)\n",
        "        return out\n",
        "\n",
        "    def forward_features(self, x):\n",
        "        out = self.conv1(x)\n",
        "        out = self.bn1(out)\n",
        "        out = self.relu(out)\n",
        "        out = self.layer1(out)\n",
        "        out = self.layer2(out)\n",
        "        out = self.layer3(out)\n",
        "        out = self.layer4(out)\n",
        "        out = self.avg_pool(out)\n",
        "        features = out.reshape(out.shape[0], -1)\n",
        "        \n",
        "        return features\n",
        "        \n",
        "\n",
        "    def features(self, x):\n",
        "        return self.forward_features(x)\n",
        "\n",
        "    def classifier(self, features):\n",
        "        return self.fc(features)\n",
        "\n",
        "        "
      ]
    },
    {
      "cell_type": "markdown",
      "metadata": {
        "id": "IDC3Z2enmUeN"
      },
      "source": [
        "### Definition of CIFARData\n",
        "This class is created based on CIFAR-10 dataset. All images are size of 32x32. It has 50000 images for training and 10000 images for testing. We split the training images into two groups: one trains the model with label and the another one we ignore the labels."
      ]
    },
    {
      "cell_type": "code",
      "execution_count": null,
      "metadata": {
        "id": "_HkOFHKfqCEX"
      },
      "outputs": [],
      "source": [
        "class CIFARData():\n",
        "    def __init__(self, batch_size, num_workers, label_ratio):\n",
        "        cifar10_path = \"./data/cifar10\"\n",
        "        download = True\n",
        "        \n",
        "        # check if dataset has been downloaded\n",
        "        if os.path.isdir(os.path.join(cifar10_path, \"cifar-10-batches-py\")):\n",
        "            download = False\n",
        "\n",
        "        # Define the transforms for train data augmentation\n",
        "        train_transform = transforms.Compose([\n",
        "            transforms.RandomCrop(24, padding=2),\n",
        "            transforms.RandomRotation(23),\n",
        "            transforms.RandomHorizontalFlip(),\n",
        "            transforms.ToTensor(),\n",
        "            transforms.Normalize([0.485, 0.456, 0.406], [0.229, 0.224, 0.225]),\n",
        "            transforms.Resize(32, antialias=True)\n",
        "        ])\n",
        "\n",
        "        # Define the transforms for test data augmentation\n",
        "        test_transform = transforms.Compose([\n",
        "            transforms.ToTensor(),\n",
        "            transforms.Normalize([0.485, 0.456, 0.406], [0.229, 0.224, 0.225]),\n",
        "            transforms.Resize(32, antialias=True)\n",
        "        ])\n",
        "\n",
        "        # obtain the train and test dataset\n",
        "        train_dataset = datasets.CIFAR10(root=cifar10_path, train=True, download=download, transform=train_transform)\n",
        "        test_dataset = datasets.CIFAR10(root=cifar10_path, train=False, download=download, transform=test_transform)\n",
        "\n",
        "        # shuffle the train_dataset to improve generalization\n",
        "        train_size = len(train_dataset)\n",
        "        train_indices = np.arange(train_size)\n",
        "        np.random.shuffle(train_indices)\n",
        "\n",
        "        # let 10% train data be the labeled, rest are unlabeled\n",
        "        split_pos = int(train_size * label_ratio)\n",
        "        labeled_train_indices = train_indices[:split_pos]\n",
        "        unlabeled_train_indices = train_indices[split_pos:]\n",
        "\n",
        "        # seperate the train_data set to labeled and unlabeled\n",
        "        labeled_dataset = Subset(train_dataset, labeled_train_indices)\n",
        "        unlabeled_dataset = Subset(train_dataset, unlabeled_train_indices)\n",
        "\n",
        "        labeled_train_loader = DataLoader(labeled_dataset, batch_size=batch_size, shuffle=False, num_workers=num_workers)\n",
        "        unlabeled_train_loader = DataLoader(unlabeled_dataset, batch_size=batch_size, shuffle=False, num_workers=num_workers)\n",
        "        test_loader = DataLoader(test_dataset, batch_size=batch_size, shuffle=False)\n",
        "\n",
        "        self.labeled_train_loader = labeled_train_loader\n",
        "        self.unlabeled_train_loader = unlabeled_train_loader\n",
        "        self.test_loader = test_loader\n",
        "        self.train_data = DataLoader(train_dataset, batch_size=batch_size, shuffle=False, num_workers=num_workers)\n",
        "\n"
      ]
    },
    {
      "cell_type": "markdown",
      "metadata": {
        "id": "0a77t43I2O7Y"
      },
      "source": [
        "### Definition of CustomDataset\n",
        "This class is used for creating our own dataset (based on python list)."
      ]
    },
    {
      "cell_type": "code",
      "execution_count": null,
      "metadata": {
        "id": "-T_wMXUO2OOT"
      },
      "outputs": [],
      "source": [
        "class CustomDataset(Dataset):\n",
        "    def __init__(self, data_list):\n",
        "        self.data = data_list\n",
        "\n",
        "    def __len__(self):\n",
        "        return len(self.data)\n",
        "\n",
        "    def __getitem__(self, index):\n",
        "        return self.data[index]\n"
      ]
    },
    {
      "cell_type": "markdown",
      "metadata": {
        "id": "IYB_1dbMRcuS"
      },
      "source": [
        "### Definition of CombinedDataset\n",
        "This class is used to combined labeled and unlabeled data. For unlabeled data, we return its label as -1"
      ]
    },
    {
      "cell_type": "code",
      "execution_count": null,
      "metadata": {
        "id": "9xJaSTAARecl"
      },
      "outputs": [],
      "source": [
        "class CombinedDataset(Dataset):\n",
        "    def __init__(self, labeled_data, unlabeled_data):\n",
        "        self.labeled_data = labeled_data.dataset\n",
        "        self.unlabeled_data = unlabeled_data.dataset\n",
        "\n",
        "    def __getitem__(self, idx):\n",
        "        if idx < len(self.labeled_data):\n",
        "            return self.labeled_data[idx]\n",
        "        else:\n",
        "            data, _ = self.unlabeled_data[idx - len(self.labeled_data)]\n",
        "            return data, -1\n",
        "\n",
        "    def __len__(self):\n",
        "        return len(self.labeled_data) + len(self.unlabeled_data)"
      ]
    },
    {
      "cell_type": "markdown",
      "metadata": {
        "id": "1WseLBLiRhAC"
      },
      "source": [
        "### Definition of some help functions\n",
        "1. listToDataloader: convert a list of tuple (data, label) to a Dataloader\n",
        "2. indiceSubsetDatalodaer: give dataloader, we extract the data indicated by indices and return a new dataloader\n",
        "3. concatDataloader: concat two dataloaders to form a new dataloader"
      ]
    },
    {
      "cell_type": "code",
      "execution_count": null,
      "metadata": {
        "id": "j9wev61TRirS"
      },
      "outputs": [],
      "source": [
        "def listToDataloader(data_list, batch_size, num_workers):\n",
        "    dataset = CustomDataset(data_list)\n",
        "    return DataLoader(dataset, batch_size=batch_size, shuffle=True, num_workers=num_workers)\n",
        "\n",
        "\n",
        "def indiceSubsetDatalodaer(dataloader, indices):\n",
        "    batch = dataloader.batch_size\n",
        "    worker = dataloader.num_workers\n",
        "\n",
        "    origin_dataset = dataloader.dataset\n",
        "    new_dataset = Subset(origin_dataset, indices)\n",
        "    dataloader = DataLoader(new_dataset, shuffle=True, batch_size=batch, num_workers=worker)\n",
        "    return dataloader\n",
        "\n",
        "\n",
        "def concatDataloader(data1, data2, has_unlabel=False):\n",
        "    dataloader = None\n",
        "    batch = data1.batch_size\n",
        "    worker = data1.num_workers\n",
        "\n",
        "    if has_unlabel:\n",
        "        combined_data = CombinedDataset(data1.dataset, data2.dataset)\n",
        "        dataloader = DataLoader(combined_data, shuffle=True, batch_size=batch, num_workers=worker)\n",
        "    else:\n",
        "        combined_data = ConcatDataset([data1.dataset, data2.dataset])\n",
        "        dataloader = DataLoader(combined_data, shuffle=True, batch_size=batch, num_workers=worker)\n",
        "\n",
        "    return dataloader"
      ]
    },
    {
      "cell_type": "markdown",
      "metadata": {
        "id": "jBUHPjfG4esB"
      },
      "source": [
        "### Definition of `train()`\n",
        "This function trains the model with given dataloader (data with label), criterion, and optimizer.       \\\n",
        "Return the best loss during training. Basically it's supervised training."
      ]
    },
    {
      "cell_type": "code",
      "execution_count": null,
      "metadata": {
        "id": "NIaQNp2yqE76"
      },
      "outputs": [],
      "source": [
        "def train(model, dataloader, criterion, optimizer, epochs=20):\n",
        "    model.to(DEVICE)\n",
        "    model.train()\n",
        "\n",
        "    for epoch in range(epochs):\n",
        "        best_train_loss = 0\n",
        "        curr_train_loss = 0\n",
        "        msg_len = 0\n",
        "\n",
        "        for batch_idx, (data, label) in enumerate(dataloader):\n",
        "            data, label = data.to(DEVICE), label.to(DEVICE)\n",
        "\n",
        "            optimizer.zero_grad()\n",
        "            output = model(data)\n",
        "            loss = criterion(output, label)\n",
        "            curr_train_loss += loss.item()\n",
        "            loss.backward()\n",
        "            optimizer.step()\n",
        "\n",
        "            if ((batch_idx+1) % 10 == 0):\n",
        "                print(' ' * msg_len, end='\\r')      # clean current line\n",
        "                databatch_count = len(dataloader)\n",
        "                percent = float(batch_idx / databatch_count * 100)\n",
        "                msg = \"Epoch: {}, Progress: {}/{} ({:.1f}%)\".format(\n",
        "                    epoch+1, batch_idx+1, databatch_count, percent)\n",
        "                print(msg, end='\\r')\n",
        "                msg_len = len(msg)\n",
        "\n",
        "        data_count = len(dataloader.dataset)\n",
        "        curr_train_loss /= data_count\n",
        "        \n",
        "        if epoch == epochs - 1:\n",
        "          print(\"Loss on the training data: {}\".format((curr_train_loss)))\n",
        "\n",
        "        if (curr_train_loss < best_train_loss):\n",
        "            best_train_loss = curr_train_loss\n",
        "\n",
        "    return best_train_loss\n",
        "\n",
        "\n"
      ]
    },
    {
      "cell_type": "markdown",
      "metadata": {
        "id": "ZOq7gUGT4oqN"
      },
      "source": [
        "### Definition of `test()`\n",
        "This function tests the model's performance with given dataloader and criterion.        \\\n",
        "Return the final test loss and accuracy"
      ]
    },
    {
      "cell_type": "code",
      "execution_count": null,
      "metadata": {
        "id": "pfpHuH6Z4sDm"
      },
      "outputs": [],
      "source": [
        "def test(model, dataloader, criterion):\n",
        "    model.to(DEVICE)\n",
        "    model.eval()\n",
        "    test_loss = 0\n",
        "    correct = 0\n",
        "    \n",
        "    print(\"Testing starts...\")\n",
        "    with torch.no_grad():\n",
        "        for data, label in dataloader:\n",
        "            data, label = data.to(DEVICE), label.to(DEVICE)\n",
        "\n",
        "            output = model(data)\n",
        "            loss = criterion(output, label)\n",
        "            test_loss += loss.item()\n",
        "            pred = output.argmax(dim=1)\n",
        "            correct += pred.eq(label).sum()\n",
        "\n",
        "    data_count = len(dataloader.dataset)\n",
        "    test_loss /= data_count\n",
        "    accuracy = float(correct / data_count * 100)\n",
        "    print(\"Test result - Average loss: {:.4f}, Accuracy: {}/{} ({:.1f}%)\\n\".format(\n",
        "        test_loss, correct, data_count, accuracy))\n",
        "    \n",
        "    return test_loss, accuracy\n",
        "\n",
        "\n",
        "    "
      ]
    },
    {
      "cell_type": "markdown",
      "metadata": {
        "id": "6KAUskNv4wNv"
      },
      "source": [
        "### Definition of `predict()`\n",
        "This function uses a model to predict the label for unlabeled data.         \\\n",
        "Return the dataloader of `(data, predicted label)` within given threshold and a list of indices of data that are not chosen as good prediction"
      ]
    },
    {
      "cell_type": "code",
      "execution_count": null,
      "metadata": {
        "id": "8qnHV7evPGuh"
      },
      "outputs": [],
      "source": [
        "def predict(model, dataloader, threshold):\n",
        "    model.to(DEVICE)\n",
        "    model.eval()\n",
        "    msg_len = 0\n",
        "\n",
        "    # result will be list of tuple (data, label)\n",
        "    result = []\n",
        "\n",
        "    # the indices of not predicting properly data in dataset\n",
        "    unused_indices = []\n",
        "\n",
        "    # sample_data is a dict of list, format is\n",
        "    #   label: [data_idx, probability of this data belongs to this label]\n",
        "    sample_data = defaultdict(list)\n",
        "\n",
        "    # predict the label by given model, for each data use its topk possible\n",
        "    #   label, then put them into sample_data\n",
        "    print(\"Prediction starts...\")\n",
        "    with torch.no_grad():\n",
        "        for batch_idx, (data, _) in enumerate(dataloader):\n",
        "            data = data.to(DEVICE)\n",
        "\n",
        "            output = model(data)\n",
        "            softmax_output = F.softmax(output, dim=-1)\n",
        "            topk, topk_idx = softmax_output.topk(k=10, dim=1)\n",
        "\n",
        "            data = data.cpu()\n",
        "            topk = topk.cpu()\n",
        "            topk_idx = topk_idx.cpu()\n",
        "\n",
        "            for idx in range(topk_idx.size(0)):\n",
        "                has_good_pred = False\n",
        "                for i, label in enumerate(topk_idx[idx]):\n",
        "                    if topk[idx][i] > threshold:\n",
        "                        curr = data[idx]\n",
        "                        sample_data[label.item()].append((curr, topk[idx][i]))\n",
        "                        has_good_pred = True\n",
        "                if has_good_pred == False:\n",
        "                  curr_idx = batch_idx * BATCHES + idx\n",
        "                  unused_indices.append(curr_idx)\n",
        "\n",
        "    \n",
        "    # now base on sample_data, for each label, let the first 100\n",
        "    #   data (sort in probability) that own this label\n",
        "    print(\"\\nPacking prediction result...\", end='')\n",
        "    for label in sample_data:\n",
        "        sort_func = lambda x: x[1]  # x[1] is the probability\n",
        "        chosen = sorted(sample_data[label], key=sort_func, reverse=True)[:250]\n",
        "        for data_prob_pair in chosen:\n",
        "            result.append((data_prob_pair[0], label))\n",
        "    print(\"Done\\n\")\n",
        "\n",
        "    predict = listToDataloader(result, BATCHES, WORKERS)\n",
        "\n",
        "    return predict, unused_indices\n",
        "\n"
      ]
    },
    {
      "cell_type": "markdown",
      "metadata": {
        "id": "l91D1QavmY0q"
      },
      "source": [
        "### Definition of getBestTeacher()\n",
        "Either load the saved best teacher model or train a new one.        \\\n",
        "Return the teacher model and its test accuracy."
      ]
    },
    {
      "cell_type": "code",
      "execution_count": null,
      "metadata": {
        "id": "kgEZPQO93XdS"
      },
      "outputs": [],
      "source": [
        "def getBestTeacher(is_train, label_data, test_data):\n",
        "    teacher = ResNet([2, 2, 2, 2])\n",
        "\n",
        "    train_loss = 0\n",
        "    test_loss = 0\n",
        "    test_accuracy = 0\n",
        "    teacher_path = os.path.join(MODEL_SAVE_PATH, \"best_teacher_model_{}.pt\".format(DEVICE))\n",
        "    find_save = os.path.exists(teacher_path)\n",
        "\n",
        "    if find_save:\n",
        "        # load from saved model\n",
        "        checkpoint = torch.load(teacher_path)\n",
        "\n",
        "    if not is_train:\n",
        "        # check if we have model saved\n",
        "        if not find_save:\n",
        "            print(\"Saved teacher model is not detected, start training a new one...\")\n",
        "            is_train = True\n",
        "        \n",
        "    if is_train:\n",
        "        # train teacher model\n",
        "        criterion = nn.CrossEntropyLoss()\n",
        "        optimizer = optim.Adam(teacher.parameters(), lr=0.001)\n",
        "        print(\"Teacher starts to be trained with labeled data...\")\n",
        "        train_loss = train(teacher, label_data, criterion, optimizer)\n",
        "        test_loss, test_accuracy = test(teacher, test_data, criterion)\n",
        "\n",
        "        state = {\n",
        "            \"model\": teacher.state_dict(), \n",
        "            \"train_loss\": train_loss,\n",
        "            \"test_loss\": test_loss,\n",
        "            \"accuracy\": test_accuracy\n",
        "        }\n",
        "\n",
        "        if find_save:\n",
        "            # if this train result is better, we update the old checkpoint\n",
        "            saved_accuracy = checkpoint[\"accuracy\"]\n",
        "            if (test_accuracy > saved_accuracy):\n",
        "                torch.save(state, teacher_path)\n",
        "        else:\n",
        "            # if no checkpoint, save one\n",
        "            torch.save(state, teacher_path)\n",
        "    else:\n",
        "        print(\"Load saved Teacher model...\")\n",
        "        teacher.load_state_dict(checkpoint[\"model\"])\n",
        "    \n",
        "    return teacher, test_accuracy"
      ]
    },
    {
      "cell_type": "code",
      "execution_count": null,
      "metadata": {
        "id": "ZtAyWFeOPMQx"
      },
      "outputs": [],
      "source": []
    },
    {
      "cell_type": "markdown",
      "metadata": {
        "id": "vQQjzmi-6vDR"
      },
      "source": [
        "## Proof that our supervised model is good enough on the CIFARData\n",
        "We use all training data as label to show our model is suitable for CIFARData"
      ]
    },
    {
      "cell_type": "code",
      "execution_count": null,
      "metadata": {
        "colab": {
          "base_uri": "https://localhost:8080/"
        },
        "id": "yBuZzvoR68f9",
        "outputId": "4b25abc9-52c8-430a-abd2-207cf71283e9"
      },
      "outputs": [
        {
          "name": "stdout",
          "output_type": "stream",
          "text": [
            "Epoch: 1, Loss: 0.01624630845195115\n",
            "Epoch: 2, Loss: 0.012837725024030666\n",
            "Epoch: 3, Loss: 0.011498009484223646\n",
            "Epoch: 4, Loss: 0.010485120406054487\n",
            "Epoch: 5, Loss: 0.00970223133130507\n",
            "Epoch: 6, Loss: 0.009034303588096542\n",
            "Epoch: 7, Loss: 0.008509872717086715\n",
            "Epoch: 8, Loss: 0.008138865764694985\n",
            "Epoch: 9, Loss: 0.0077260920086292305\n",
            "Epoch: 10, Loss: 0.007438626713824995\n",
            "Epoch: 11, Loss: 0.007119861260207012\n",
            "Epoch: 12, Loss: 0.006918724930647648\n",
            "Epoch: 13, Loss: 0.006635727194222537\n",
            "Epoch: 14, Loss: 0.006465777035313423\n",
            "Epoch: 15, Loss: 0.006213168660799662\n",
            "Epoch: 16, Loss: 0.0061056578279745696\n",
            "Epoch: 17, Loss: 0.005908723353737533\n",
            "Epoch: 18, Loss: 0.005801944066779782\n",
            "Epoch: 19, Loss: 0.00561020906284602\n",
            "Epoch: 20, Loss: 0.005477223042285804\n",
            "Testing starts...\n",
            "Test result - Average loss: 0.0078, Accuracy: 7589/10000 (75.9%)\n",
            "\n"
          ]
        }
      ],
      "source": [
        "full_data = CIFARData(batch_size=BATCHES, num_workers=4, label_ratio=0.99)\n",
        "full_label_data = full_data.labeled_train_loader\n",
        "full_test_data = full_data.test_loader\n",
        "\n",
        "# full_model = ImageClassifierCNN()        # we tried the other CNN before but didn't show a good performance\n",
        "full_model = ResNet(num_blocks=[2, 2, 2, 2])\n",
        "full_optimizer = optim.Adam(full_model.parameters(), lr=0.001)\n",
        "criterion = nn.CrossEntropyLoss()\n",
        "\n",
        "full_model_loss = train(full_model, full_label_data, criterion, full_optimizer)\n",
        "full_test_loss, full_test_accuracy = test(full_model, full_test_data, criterion)"
      ]
    },
    {
      "cell_type": "markdown",
      "metadata": {
        "id": "2vbgSq7Amf-o"
      },
      "source": [
        "## First experiment: Training with the Pseduo Labelling method"
      ]
    },
    {
      "cell_type": "markdown",
      "metadata": {
        "id": "ETAKtXwdTzNj"
      },
      "source": [
        "### Definition of `train_teacher_student` \n",
        "This function uses Pseudo-Labelling structure training method. `label_ratio` is the ratio of labeled data to entire CIFAR-10 training data, `save_student` decide if save final best student model and `identify` is for customizing the name of saved model. The name will be `best_student_model_{identify}.pt`"
      ]
    },
    {
      "cell_type": "code",
      "execution_count": null,
      "metadata": {
        "id": "kpRSZp3uZ1Yy"
      },
      "outputs": [],
      "source": [
        "def train_teacher_student(label_ratio, save_student=True, identify=\"\"):\n",
        "    threshold = 0.9\n",
        "    acc_threshold = 0.3\n",
        "    stop_threshold = 3\n",
        "\n",
        "    dataloader = CIFARData(batch_size=BATCHES, num_workers=WORKERS, label_ratio=label_ratio)\n",
        "    label_data = dataloader.labeled_train_loader\n",
        "    unlabeled_data = dataloader.unlabeled_train_loader\n",
        "    test_data = dataloader.test_loader\n",
        "\n",
        "    # get teacher model\n",
        "    teacher, teacher_test_accuracy = getBestTeacher(is_train=True, label_data=label_data, test_data=test_data)\n",
        "\n",
        "    # initial variables for training loop\n",
        "    improved = True\n",
        "    stop_count = 0\n",
        "    count = 0\n",
        "\n",
        "    # collect the best student model\n",
        "    best_model = None\n",
        "    best_train_loss = torch.inf\n",
        "    best_test_loss = torch.inf\n",
        "    best_accuracy = 0\n",
        "\n",
        "    # the indices of data in unlabeled data that didn't get well predicted\n",
        "    unused_indices = []\n",
        "\n",
        "    while improved:\n",
        "        # use teacher to predict unlabeled data, then take good predicted data out\n",
        "        print(\"Teacher starts to predict unlabeled data...\")\n",
        "        pred_data, unused_indices = predict(teacher, unlabeled_data, threshold)\n",
        "\n",
        "        # combined labeled and prediction data\n",
        "        combined_data = concatDataloader(label_data, pred_data)\n",
        "\n",
        "        # train the student with prediction data\n",
        "        student = ResNet([2, 2, 2, 2])\n",
        "        criterion = nn.CrossEntropyLoss()\n",
        "        optimizer = optim.Adam(student.parameters(), lr=0.0005)\n",
        "        print(\"Student starts to be trained with prediction data...\")\n",
        "        student_train_loss = train(student, combined_data, criterion, optimizer)\n",
        "        student_test_loss, student_test_accuracy = test(student, test_data, criterion)\n",
        "\n",
        "        # update the best student and model info\n",
        "        if student_test_accuracy > best_accuracy:\n",
        "            best_model = deepcopy(student)\n",
        "            best_train_loss = student_train_loss\n",
        "            best_test_loss = student_test_loss\n",
        "            best_accuracy = student_test_accuracy\n",
        "\n",
        "        # accuracy improvement calculation\n",
        "        accuracy_improvement = student_test_accuracy - teacher_test_accuracy\n",
        "\n",
        "        # if student is worse than teacher, we increase stop_count\n",
        "        if accuracy_improvement < acc_threshold:\n",
        "            stop_count += 1\n",
        "        else:\n",
        "            stop_count = 0\n",
        "\n",
        "        # if the performance  of the model has not been improved for several times, stop\n",
        "        if stop_count == stop_threshold:\n",
        "            improved = False\n",
        "        elif accuracy_improvement > acc_threshold:\n",
        "            # update teacher model to the better student model\n",
        "            teacher = deepcopy(student)\n",
        "            teacher_test_accuracy = student_test_accuracy\n",
        "\n",
        "            # since we use the new student as teacher, we move its good predicted unlabeled\n",
        "            #   data to labled\n",
        "            unlabeled_data = indiceSubsetDatalodaer(unlabeled_data, unused_indices)\n",
        "            label_data = combined_data\n",
        "\n",
        "        count += 1\n",
        "        threshold -= 0.005\n",
        "\n",
        "        if count == EPOCHES:\n",
        "            improved = False\n",
        "        \n",
        "    print(\"the final size of label_data is {}\".format((len(label_data.dataset))))\n",
        "    print(\"Best student accuracy is {}%\".format(best_accuracy))\n",
        "\n",
        "    if save_student:\n",
        "        if identify == \"\":\n",
        "          identify = str(label_ratio)\n",
        "\n",
        "        student_path = os.path.join(MODEL_SAVE_PATH, \"best_student_model_{}_{}.pt\".format(DEVICE, identify))\n",
        "        find_save = os.path.exists(student_path)\n",
        "        state = {\n",
        "            \"model\": best_model.state_dict(), \n",
        "            \"train_loss\": best_train_loss,\n",
        "            \"test_loss\": best_test_loss,\n",
        "            \"accuracy\": best_accuracy\n",
        "        }\n",
        "\n",
        "        # check if we have student saved. if does, compare the accuracy and save the best one\n",
        "        if (find_save):\n",
        "            checkpoint = torch.load(student_path)\n",
        "            saved_acc = checkpoint[\"accuracy\"]\n",
        "            if (best_accuracy > saved_acc):\n",
        "                torch.save(state, student_path)\n",
        "        else:\n",
        "            torch.save(state, student_path)\n",
        "    "
      ]
    },
    {
      "cell_type": "markdown",
      "metadata": {
        "id": "oldOvfvTs9M1"
      },
      "source": [
        "### Try Pseudo-Labelling method with `label_ratio=0.01`"
      ]
    },
    {
      "cell_type": "markdown",
      "metadata": {
        "id": "1vRn2g9qU0Hn"
      },
      "source": [
        "Since for label_ratio = 0.01, the size of labeled data is too small, and thus we changed the batch from 100 to 10 for it."
      ]
    },
    {
      "cell_type": "code",
      "execution_count": null,
      "metadata": {
        "colab": {
          "base_uri": "https://localhost:8080/"
        },
        "id": "wLNvKM7bs5tk",
        "outputId": "e179b587-9365-476a-bb37-c7ed35e86217"
      },
      "outputs": [
        {
          "name": "stdout",
          "output_type": "stream",
          "text": [
            "Teacher starts to be trained with labeled data...\n",
            "Loss on the training data: 0.011903762340545654\n",
            "Testing starts...\n",
            "Test result - Average loss: 0.0225, Accuracy: 3156/10000 (31.6%)\n",
            "\n",
            "Teacher starts to predict unlabeled data...\n",
            "Prediction starts...\n",
            "\n",
            "Packing prediction result...Done\n",
            "\n",
            "Student starts to be trained with prediction data...\n",
            "Loss on the training data: 0.004685787918839946\n",
            "Testing starts...\n",
            "Test result - Average loss: 0.0215, Accuracy: 3436/10000 (34.4%)\n",
            "\n",
            "Teacher starts to predict unlabeled data...\n",
            "Prediction starts...\n",
            "\n",
            "Packing prediction result...Done\n",
            "\n",
            "Student starts to be trained with prediction data...\n",
            "Loss on the training data: 0.0026941951629212355\n",
            "Testing starts...\n",
            "Test result - Average loss: 0.0233, Accuracy: 3573/10000 (35.7%)\n",
            "\n",
            "Teacher starts to predict unlabeled data...\n",
            "Prediction starts...\n",
            "\n",
            "Packing prediction result...Done\n",
            "\n",
            "Student starts to be trained with prediction data...\n",
            "Loss on the training data: 0.0017671159415388136\n",
            "Testing starts...\n",
            "Test result - Average loss: 0.0233, Accuracy: 3623/10000 (36.2%)\n",
            "\n",
            "Teacher starts to predict unlabeled data...\n",
            "Prediction starts...\n",
            "\n",
            "Packing prediction result...Done\n",
            "\n",
            "Student starts to be trained with prediction data...\n",
            "Loss on the training data: 0.00144469935931067\n",
            "Testing starts...\n",
            "Test result - Average loss: 0.0243, Accuracy: 3741/10000 (37.4%)\n",
            "\n",
            "Teacher starts to predict unlabeled data...\n",
            "Prediction starts...\n",
            "\n",
            "Packing prediction result...Done\n",
            "\n",
            "Student starts to be trained with prediction data...\n",
            "Loss on the training data: 0.001061714297036958\n",
            "Testing starts...\n",
            "Test result - Average loss: 0.0253, Accuracy: 3493/10000 (34.9%)\n",
            "\n",
            "Teacher starts to predict unlabeled data...\n",
            "Prediction starts...\n",
            "\n",
            "Packing prediction result...Done\n",
            "\n",
            "Student starts to be trained with prediction data...\n",
            "Loss on the training data: 0.0010350502990288993\n",
            "Testing starts...\n",
            "Test result - Average loss: 0.0249, Accuracy: 3690/10000 (36.9%)\n",
            "\n",
            "Teacher starts to predict unlabeled data...\n",
            "Prediction starts...\n",
            "\n",
            "Packing prediction result...Done\n",
            "\n",
            "Student starts to be trained with prediction data...\n",
            "Loss on the training data: 0.0011028802980639829\n",
            "Testing starts...\n",
            "Test result - Average loss: 0.0279, Accuracy: 3518/10000 (35.2%)\n",
            "\n",
            "the final size of label_data is 6949\n",
            "Best student accuracy is 37.40999984741211%\n"
          ]
        }
      ],
      "source": [
        "BATCHES = 10\n",
        "train_teacher_student(label_ratio=0.01)"
      ]
    },
    {
      "cell_type": "markdown",
      "metadata": {
        "id": "yYMtUq9rqCZN"
      },
      "source": [
        "### Try Pseudo-Labelling method with `label_ratio=0.05`"
      ]
    },
    {
      "cell_type": "code",
      "execution_count": null,
      "metadata": {
        "colab": {
          "base_uri": "https://localhost:8080/"
        },
        "id": "4S6W_pOYqG-J",
        "outputId": "87d91afc-41e3-4bd2-8ff0-db586779ff26"
      },
      "outputs": [
        {
          "name": "stdout",
          "output_type": "stream",
          "text": [
            "Teacher starts to be trained with labeled data...\n",
            "Loss on the training data: 0.01262520136833191\n",
            "Testing starts...\n",
            "Test result - Average loss: 0.0178, Accuracy: 4451/10000 (44.5%)\n",
            "\n",
            "Teacher starts to predict unlabeled data...\n",
            "Prediction starts...\n",
            "\n",
            "Packing prediction result...Done\n",
            "\n",
            "Student starts to be trained with prediction data...\n",
            "Loss on the training data: 0.007459563621999938\n",
            "Testing starts...\n",
            "Test result - Average loss: 0.0173, Accuracy: 4914/10000 (49.1%)\n",
            "\n",
            "Teacher starts to predict unlabeled data...\n",
            "Prediction starts...\n",
            "\n",
            "Packing prediction result...Done\n",
            "\n",
            "Student starts to be trained with prediction data...\n",
            "Loss on the training data: 0.005345890304748854\n",
            "Testing starts...\n",
            "Test result - Average loss: 0.0159, Accuracy: 5313/10000 (53.1%)\n",
            "\n",
            "Teacher starts to predict unlabeled data...\n",
            "Prediction starts...\n",
            "\n",
            "Packing prediction result...Done\n",
            "\n",
            "Student starts to be trained with prediction data...\n",
            "Loss on the training data: 0.003957555261251691\n",
            "Testing starts...\n",
            "Test result - Average loss: 0.0224, Accuracy: 4576/10000 (45.8%)\n",
            "\n",
            "Teacher starts to predict unlabeled data...\n",
            "Prediction starts...\n",
            "\n",
            "Packing prediction result...Done\n",
            "\n",
            "Student starts to be trained with prediction data...\n",
            "Loss on the training data: 0.0038410417564223574\n",
            "Testing starts...\n",
            "Test result - Average loss: 0.0201, Accuracy: 4714/10000 (47.1%)\n",
            "\n",
            "Teacher starts to predict unlabeled data...\n",
            "Prediction starts...\n",
            "\n",
            "Packing prediction result...Done\n",
            "\n",
            "Student starts to be trained with prediction data...\n",
            "Loss on the training data: 0.003869880711794885\n",
            "Testing starts...\n",
            "Test result - Average loss: 0.0241, Accuracy: 4251/10000 (42.5%)\n",
            "\n",
            "the final size of label_data is 5948\n",
            "Best student accuracy is 53.130001068115234%\n"
          ]
        }
      ],
      "source": [
        "BATCHES = 100\n",
        "train_teacher_student(label_ratio=0.05)"
      ]
    },
    {
      "cell_type": "markdown",
      "metadata": {
        "id": "iY06ZjKVX6xG"
      },
      "source": [
        "### Try Pseudo-Labelling method with `label_ratio=0.1`"
      ]
    },
    {
      "cell_type": "code",
      "execution_count": null,
      "metadata": {
        "colab": {
          "base_uri": "https://localhost:8080/"
        },
        "id": "vDF3IyndPe2c",
        "outputId": "adf90e21-04a5-4f78-99aa-9e7c58dfd772"
      },
      "outputs": [
        {
          "name": "stdout",
          "output_type": "stream",
          "text": [
            "Teacher starts to be trained with labeled data...\n",
            "Loss on the training data: 0.011229814183712005\n",
            "Testing starts...\n",
            "Test result - Average loss: 0.0142, Accuracy: 5388/10000 (53.9%)\n",
            "\n",
            "Teacher starts to predict unlabeled data...\n",
            "Prediction starts...\n",
            "\n",
            "Packing prediction result...Done\n",
            "\n",
            "Student starts to be trained with prediction data...\n",
            "Loss on the training data: 0.008048584062375921\n",
            "Testing starts...\n",
            "Test result - Average loss: 0.0142, Accuracy: 5389/10000 (53.9%)\n",
            "\n",
            "Teacher starts to predict unlabeled data...\n",
            "Prediction starts...\n",
            "\n",
            "Packing prediction result...Done\n",
            "\n",
            "Student starts to be trained with prediction data...\n",
            "Loss on the training data: 0.007713436479689147\n",
            "Testing starts...\n",
            "Test result - Average loss: 0.0152, Accuracy: 5475/10000 (54.8%)\n",
            "\n",
            "Teacher starts to predict unlabeled data...\n",
            "Prediction starts...\n",
            "\n",
            "Packing prediction result...Done\n",
            "\n",
            "Student starts to be trained with prediction data...\n",
            "Loss on the training data: 0.005990117340561573\n",
            "Testing starts...\n",
            "Test result - Average loss: 0.0145, Accuracy: 5661/10000 (56.6%)\n",
            "\n",
            "Teacher starts to predict unlabeled data...\n",
            "Prediction starts...\n",
            "\n",
            "Packing prediction result...Done\n",
            "\n",
            "Student starts to be trained with prediction data...\n",
            "Loss on the training data: 0.004756865850035756\n",
            "Testing starts...\n",
            "Test result - Average loss: 0.0153, Accuracy: 5782/10000 (57.8%)\n",
            "\n",
            "Teacher starts to predict unlabeled data...\n",
            "Prediction starts...\n",
            "\n",
            "Packing prediction result...Done\n",
            "\n",
            "Student starts to be trained with prediction data...\n",
            "Loss on the training data: 0.003945739393964022\n",
            "Testing starts...\n",
            "Test result - Average loss: 0.0136, Accuracy: 6023/10000 (60.2%)\n",
            "\n",
            "Teacher starts to predict unlabeled data...\n",
            "Prediction starts...\n",
            "\n",
            "Packing prediction result...Done\n",
            "\n",
            "Student starts to be trained with prediction data...\n",
            "Loss on the training data: 0.0034250929166495603\n",
            "Testing starts...\n",
            "Test result - Average loss: 0.0150, Accuracy: 5850/10000 (58.5%)\n",
            "\n",
            "Teacher starts to predict unlabeled data...\n",
            "Prediction starts...\n",
            "\n",
            "Packing prediction result...Done\n",
            "\n",
            "Student starts to be trained with prediction data...\n",
            "Loss on the training data: 0.003422005916403617\n",
            "Testing starts...\n",
            "Test result - Average loss: 0.0123, Accuracy: 6183/10000 (61.8%)\n",
            "\n",
            "Teacher starts to predict unlabeled data...\n",
            "Prediction starts...\n",
            "\n",
            "Packing prediction result...Done\n",
            "\n",
            "Student starts to be trained with prediction data...\n",
            "Loss on the training data: 0.0029655986301162663\n",
            "Testing starts...\n",
            "Test result - Average loss: 0.0148, Accuracy: 5835/10000 (58.3%)\n",
            "\n",
            "Teacher starts to predict unlabeled data...\n",
            "Prediction starts...\n",
            "\n",
            "Packing prediction result...Done\n",
            "\n",
            "Student starts to be trained with prediction data...\n",
            "Loss on the training data: 0.002980615399246971\n",
            "Testing starts...\n",
            "Test result - Average loss: 0.0158, Accuracy: 5759/10000 (57.6%)\n",
            "\n",
            "Teacher starts to predict unlabeled data...\n",
            "Prediction starts...\n",
            "\n",
            "Packing prediction result...Done\n",
            "\n",
            "Student starts to be trained with prediction data...\n",
            "Loss on the training data: 0.0030586367897081235\n",
            "Testing starts...\n",
            "Test result - Average loss: 0.0152, Accuracy: 5921/10000 (59.2%)\n",
            "\n",
            "Best student accuracy is 61.829994201660156%\n"
          ]
        }
      ],
      "source": [
        "train_teacher_student(label_ratio=0.1)"
      ]
    },
    {
      "cell_type": "markdown",
      "metadata": {
        "id": "zKnGC-dGbLxd"
      },
      "source": [
        "The final size of label_data is 15679."
      ]
    },
    {
      "cell_type": "markdown",
      "metadata": {
        "id": "LlMce0tYZzGY"
      },
      "source": [
        "### Try Pseudo-Labelling method with `label_ratio=0.3`"
      ]
    },
    {
      "cell_type": "code",
      "execution_count": null,
      "metadata": {
        "colab": {
          "base_uri": "https://localhost:8080/"
        },
        "id": "8SkSY976bIOW",
        "outputId": "630a584c-59e1-4f53-bf89-6009fb0f87da"
      },
      "outputs": [
        {
          "name": "stdout",
          "output_type": "stream",
          "text": [
            "Teacher starts to be trained with labeled data...\n",
            "Loss on the training data: 0.008263090761502584\n",
            "Testing starts...\n",
            "Test result - Average loss: 0.0126, Accuracy: 6178/10000 (61.8%)\n",
            "\n",
            "Teacher starts to predict unlabeled data...\n",
            "Prediction starts...\n",
            "\n",
            "Packing prediction result...Done\n",
            "\n",
            "Student starts to be trained with prediction data...\n",
            "Loss on the training data: 0.006812994327007079\n",
            "Testing starts...\n",
            "Test result - Average loss: 0.0126, Accuracy: 6235/10000 (62.3%)\n",
            "\n",
            "Teacher starts to predict unlabeled data...\n",
            "Prediction starts...\n",
            "\n",
            "Packing prediction result...Done\n",
            "\n",
            "Student starts to be trained with prediction data...\n",
            "Loss on the training data: 0.005833890086168951\n",
            "Testing starts...\n",
            "Test result - Average loss: 0.0116, Accuracy: 6589/10000 (65.9%)\n",
            "\n",
            "Teacher starts to predict unlabeled data...\n",
            "Prediction starts...\n",
            "\n",
            "Packing prediction result...Done\n",
            "\n",
            "Student starts to be trained with prediction data...\n",
            "Loss on the training data: 0.00543058670656827\n",
            "Testing starts...\n",
            "Test result - Average loss: 0.0097, Accuracy: 6967/10000 (69.7%)\n",
            "\n",
            "Teacher starts to predict unlabeled data...\n",
            "Prediction starts...\n",
            "\n",
            "Packing prediction result...Done\n",
            "\n",
            "Student starts to be trained with prediction data...\n",
            "Loss on the training data: 0.004673091271874223\n",
            "Testing starts...\n",
            "Test result - Average loss: 0.0099, Accuracy: 7037/10000 (70.4%)\n",
            "\n",
            "Teacher starts to predict unlabeled data...\n",
            "Prediction starts...\n",
            "\n",
            "Packing prediction result...Done\n",
            "\n",
            "Student starts to be trained with prediction data...\n",
            "Loss on the training data: 0.004307664530051728\n",
            "Testing starts...\n",
            "Test result - Average loss: 0.0102, Accuracy: 7107/10000 (71.1%)\n",
            "\n",
            "Teacher starts to predict unlabeled data...\n",
            "Prediction starts...\n",
            "\n",
            "Packing prediction result...Done\n",
            "\n",
            "Student starts to be trained with prediction data...\n",
            "Loss on the training data: 0.004001441635508756\n",
            "Testing starts...\n",
            "Test result - Average loss: 0.0116, Accuracy: 6848/10000 (68.5%)\n",
            "\n",
            "Teacher starts to predict unlabeled data...\n",
            "Prediction starts...\n",
            "\n",
            "Packing prediction result...Done\n",
            "\n",
            "Student starts to be trained with prediction data...\n",
            "Loss on the training data: 0.003985174202889828\n",
            "Testing starts...\n",
            "Test result - Average loss: 0.0104, Accuracy: 6985/10000 (69.8%)\n",
            "\n",
            "Teacher starts to predict unlabeled data...\n",
            "Prediction starts...\n",
            "\n",
            "Packing prediction result...Done\n",
            "\n",
            "Student starts to be trained with prediction data...\n",
            "Loss on the training data: 0.003943465147317438\n",
            "Testing starts...\n",
            "Test result - Average loss: 0.0118, Accuracy: 6815/10000 (68.1%)\n",
            "\n",
            "the final size of label_data is 27254\n",
            "Best student accuracy is 71.06999969482422%\n"
          ]
        }
      ],
      "source": [
        "train_teacher_student(label_ratio=0.3)"
      ]
    },
    {
      "cell_type": "markdown",
      "metadata": {
        "id": "GMhiWZxVbcfo"
      },
      "source": [
        "### Try Pseudo-Labelling method with `label_ratio=0.5`"
      ]
    },
    {
      "cell_type": "code",
      "execution_count": null,
      "metadata": {
        "colab": {
          "base_uri": "https://localhost:8080/"
        },
        "id": "MUD0-I1Vba9i",
        "outputId": "72256791-c818-497b-b314-8616df1ca287"
      },
      "outputs": [
        {
          "name": "stdout",
          "output_type": "stream",
          "text": [
            "Teacher starts to be trained with labeled data...\n",
            "Loss on the training data: 0.007073681125640869\n",
            "Testing starts...\n",
            "Test result - Average loss: 0.0112, Accuracy: 6663/10000 (66.6%)\n",
            "\n",
            "Teacher starts to predict unlabeled data...\n",
            "Prediction starts...\n",
            "\n",
            "Packing prediction result...Done\n",
            "\n",
            "Student starts to be trained with prediction data...\n",
            "Loss on the training data: 0.006416746939573615\n",
            "Testing starts...\n",
            "Test result - Average loss: 0.0113, Accuracy: 6605/10000 (66.0%)\n",
            "\n",
            "Teacher starts to predict unlabeled data...\n",
            "Prediction starts...\n",
            "\n",
            "Packing prediction result...Done\n",
            "\n",
            "Student starts to be trained with prediction data...\n",
            "Loss on the training data: 0.006261858345380518\n",
            "Testing starts...\n",
            "Test result - Average loss: 0.0107, Accuracy: 6785/10000 (67.8%)\n",
            "\n",
            "Teacher starts to predict unlabeled data...\n",
            "Prediction starts...\n",
            "\n",
            "Packing prediction result...Done\n",
            "\n",
            "Student starts to be trained with prediction data...\n",
            "Loss on the training data: 0.005792191870955631\n",
            "Testing starts...\n",
            "Test result - Average loss: 0.0082, Accuracy: 7357/10000 (73.6%)\n",
            "\n",
            "Teacher starts to predict unlabeled data...\n",
            "Prediction starts...\n",
            "\n",
            "Packing prediction result...Done\n",
            "\n",
            "Student starts to be trained with prediction data...\n",
            "Loss on the training data: 0.005305755660251249\n",
            "Testing starts...\n",
            "Test result - Average loss: 0.0095, Accuracy: 7125/10000 (71.2%)\n",
            "\n",
            "Teacher starts to predict unlabeled data...\n",
            "Prediction starts...\n",
            "\n",
            "Packing prediction result...Done\n",
            "\n",
            "Student starts to be trained with prediction data...\n",
            "Loss on the training data: 0.0054252318832597015\n",
            "Testing starts...\n",
            "Test result - Average loss: 0.0112, Accuracy: 6835/10000 (68.3%)\n",
            "\n",
            "Teacher starts to predict unlabeled data...\n",
            "Prediction starts...\n",
            "\n",
            "Packing prediction result...Done\n",
            "\n",
            "Student starts to be trained with prediction data...\n",
            "Loss on the training data: 0.005407552540612089\n",
            "Testing starts...\n",
            "Test result - Average loss: 0.0093, Accuracy: 7226/10000 (72.3%)\n",
            "\n",
            "the final size of label_data is 29849\n",
            "Best student accuracy is 73.56999206542969%\n"
          ]
        }
      ],
      "source": [
        "train_teacher_student(label_ratio=0.5)"
      ]
    },
    {
      "cell_type": "markdown",
      "metadata": {
        "id": "vjO6rw1pVSX8"
      },
      "source": [
        "## Second Experiemnt: Training with the Resnet-Kmeans"
      ]
    },
    {
      "cell_type": "markdown",
      "metadata": {
        "id": "vU9fv7i8cqUO"
      },
      "source": [
        "### Definition of `kmeans_loss()`\n",
        "This function computes the loss of k-means based on given features and centroids."
      ]
    },
    {
      "cell_type": "code",
      "execution_count": null,
      "metadata": {
        "id": "u8W8cP6L-xjZ"
      },
      "outputs": [],
      "source": [
        "def kmeans_loss(features, centroids):\n",
        "    distances = torch.cdist(features, centroids)\n",
        "    min_distances, _ = torch.min(distances, dim=1)\n",
        "    loss = torch.mean(min_distances ** 2)\n",
        "    return loss"
      ]
    },
    {
      "cell_type": "markdown",
      "metadata": {
        "id": "3QUq7d1cVcFp"
      },
      "source": [
        "### Definition of `train_combined()`\n",
        "This function is to train the model for one epoch where the loss is the combination of Resnet cross-entropy and Kmeans clustering loss. Kmeans_weight decides the ratio of Kmeans clustering loss in the combined loss."
      ]
    },
    {
      "cell_type": "code",
      "execution_count": null,
      "metadata": {
        "id": "Bi4WshOgQOso"
      },
      "outputs": [],
      "source": [
        "def train_combined(model, dataloader, optimizer, criterion, device, kmeans_weight, num_classes):\n",
        "    model.train()\n",
        "    total_loss = 0.0\n",
        "    sup_loss = 0\n",
        "\n",
        "    for batch_idx, (data, targets) in enumerate(dataloader):\n",
        "        data, targets = data.to(device), targets.to(device)\n",
        "        labeled_mask = targets != -1\n",
        "\n",
        "        optimizer.zero_grad()\n",
        "        \n",
        "        # Get the output before the linear classifier\n",
        "        features = model.features(data)\n",
        "        \n",
        "        # Compute the K-means clustering loss\n",
        "        centroids = torch.randn(num_classes, features.size(1), device=device)\n",
        "        # centroids = initialize_centroids(features, num_classes)\n",
        "        kmeans_loss_value = kmeans_loss(features, centroids)\n",
        "        \n",
        "        # Compute the cross-entropy loss for labeled data\n",
        "        output = model.classifier(features)\n",
        "        ce_loss_value = 0\n",
        "        if labeled_mask.sum() > 0:\n",
        "            ce_loss_value = criterion(output[labeled_mask], targets[labeled_mask])\n",
        "        \n",
        "        # Combine the losses\n",
        "        loss = ce_loss_value + kmeans_weight * kmeans_loss_value\n",
        "        # print(\"ce_loss_value: \", ce_loss_value.item())\n",
        "        # print(\"kmeans_loss\", kmeans_weight * kmeans_loss_value.item())\n",
        "        loss.backward()\n",
        "        \n",
        "        optimizer.step()\n",
        "        \n",
        "        total_loss += loss.item()\n",
        "        sup_loss += ce_loss_value\n",
        "\n",
        "    return total_loss / (len(dataloader.dataset)), (total_loss - sup_loss) / (len(dataloader.dataset))\n"
      ]
    },
    {
      "cell_type": "markdown",
      "metadata": {
        "id": "vUL9zLZSVhf7"
      },
      "source": [
        "### Definition of `training_combined_complete()`\n",
        "This function uses Resnet-Kmeans training method. `label_ratio` is the ratio of labeled data to entire CIFAR-10 training data, `save_model` decide if save final best model and `identify` is for customizing the name of saved model. The name will be `best_sup_kmeans_model_{identify}.pt`"
      ]
    },
    {
      "cell_type": "code",
      "execution_count": null,
      "metadata": {
        "id": "XbugDpkuRc1n"
      },
      "outputs": [],
      "source": [
        "def training_combined_complete(label_ratio, save_model=True, identify=\"\"):\n",
        "    stop_threshold = 3\n",
        "\n",
        "    dataloader = CIFARData(batch_size=BATCHES, num_workers=WORKERS, label_ratio=label_ratio)\n",
        "    label_data = dataloader.labeled_train_loader\n",
        "    unlabeled_data = dataloader.unlabeled_train_loader\n",
        "    test_data = dataloader.test_loader\n",
        "\n",
        "    # get supervised model\n",
        "    sup_resnet, _ = getBestTeacher(True, label_data, test_data)\n",
        "\n",
        "    # initial variables for training loop\n",
        "    stop_count = 0\n",
        "    count = 0\n",
        "\n",
        "    # collect the best accuracy and model\n",
        "    best_model = None\n",
        "    best_train_loss = torch.inf\n",
        "    best_test_loss = torch.inf\n",
        "    best_accuracy = 0\n",
        "\n",
        "    combined_data = CombinedDataset(label_data, unlabeled_data)\n",
        "    combined_dataloader = torch.utils.data.DataLoader(combined_data, batch_size=BATCHES, shuffle=True, num_workers=WORKERS)\n",
        "\n",
        "    criterion = nn.CrossEntropyLoss()\n",
        "    optimizer = optim.Adam(sup_resnet.parameters(), lr=0.001)\n",
        "\n",
        "    for epoch in range(1, EPOCHES + 1):\n",
        "        train_loss, km_loss = train_combined(sup_resnet, combined_dataloader, optimizer, criterion, DEVICE, kmeans_weight=0.005, num_classes=10)\n",
        "\n",
        "        print(\"kmeans loss: \", km_loss.item())\n",
        "        print(\"mean total loss\", train_loss)\n",
        "        test_loss, accuracy = test(sup_resnet, test_data, criterion)\n",
        "      \n",
        "\n",
        "        if accuracy > best_accuracy:\n",
        "            best_accuracy = accuracy\n",
        "            best_model = copy.deepcopy(sup_resnet)\n",
        "            stop_count = 0\n",
        "        else:\n",
        "            stop_count += 1\n",
        "\n",
        "        if stop_count >= stop_threshold:\n",
        "            break\n",
        "\n",
        "    print(\"Best accuracy is {}%\".format(best_accuracy))\n",
        "\n",
        "    if save_model:\n",
        "        if identify == \"\":\n",
        "          identify = str(label_ratio)\n",
        "\n",
        "        sup_kmeans_path = os.path.join(MODEL_SAVE_PATH, \"best_sup_kmeans_model_{},pt\".format(identify))\n",
        "        find_save = os.path.exists(sup_kmeans_path)\n",
        "        state = {\n",
        "            \"model\": best_model.state_dict(), \n",
        "            \"train_loss\": best_train_loss,\n",
        "            \"test_loss\": best_test_loss,\n",
        "            \"accuracy\": best_accuracy\n",
        "        }\n",
        "\n",
        "        # check if we have model saved. if does, compare the accuracy and save the best one\n",
        "        if (find_save):\n",
        "            checkpoint = torch.load(sup_kmeans_path)\n",
        "            saved_acc = checkpoint[\"accuracy\"]\n",
        "            if (best_accuracy > saved_acc):\n",
        "                torch.save(state, sup_kmeans_path)\n",
        "        else:\n",
        "            torch.save(state, sup_kmeans_path)\n",
        "\n"
      ]
    },
    {
      "cell_type": "markdown",
      "metadata": {
        "id": "36K7eANBhYHr"
      },
      "source": [
        "### Try Resnet-Kmeans method with `label_ratio=0.01`"
      ]
    },
    {
      "cell_type": "markdown",
      "metadata": {
        "id": "iLfDwL0dow6k"
      },
      "source": [
        "Since for label_ratio = 0.01, the size of labeled data is too small, and thus we changed the batch from 100 to 10 for it."
      ]
    },
    {
      "cell_type": "code",
      "execution_count": null,
      "metadata": {
        "colab": {
          "base_uri": "https://localhost:8080/"
        },
        "id": "bWKwUbaPhVGd",
        "outputId": "378133d6-ce6a-4a14-df4a-aa4039ea800f"
      },
      "outputs": [
        {
          "name": "stdout",
          "output_type": "stream",
          "text": [
            "Teacher starts to be trained with labeled data...\n",
            "Loss on the training data: 0.1810344316959381\n",
            "Testing starts...\n",
            "Test result - Average loss: 0.1988, Accuracy: 2844/10000 (28.4%)\n",
            "\n",
            "kmeans loss:  0.11205468326807022\n",
            "mean total loss 0.13412679216504098\n",
            "Testing starts...\n",
            "Test result - Average loss: 0.2291, Accuracy: 1000/10000 (10.0%)\n",
            "\n",
            "kmeans loss:  0.1114158183336258\n",
            "mean total loss 0.13328301885008811\n",
            "Testing starts...\n",
            "Test result - Average loss: 0.2214, Accuracy: 1713/10000 (17.1%)\n",
            "\n",
            "kmeans loss:  0.11146499961614609\n",
            "mean total loss 0.1331779912483692\n",
            "Testing starts...\n",
            "Test result - Average loss: 0.2247, Accuracy: 1501/10000 (15.0%)\n",
            "\n",
            "kmeans loss:  0.11152375489473343\n",
            "mean total loss 0.13283682131528854\n",
            "Testing starts...\n",
            "Test result - Average loss: 0.2198, Accuracy: 1848/10000 (18.5%)\n",
            "\n",
            "kmeans loss:  0.1115003451704979\n",
            "mean total loss 0.13245701295137405\n",
            "Testing starts...\n",
            "Test result - Average loss: 0.2169, Accuracy: 1650/10000 (16.5%)\n",
            "\n",
            "kmeans loss:  0.11157429218292236\n",
            "mean total loss 0.1327523038136959\n",
            "Testing starts...\n",
            "Test result - Average loss: 0.2172, Accuracy: 1856/10000 (18.6%)\n",
            "\n",
            "kmeans loss:  0.11150214821100235\n",
            "mean total loss 0.13205820820808412\n",
            "Testing starts...\n",
            "Test result - Average loss: 0.2165, Accuracy: 1705/10000 (17.0%)\n",
            "\n",
            "kmeans loss:  0.11147487908601761\n",
            "mean total loss 0.13248853794813156\n",
            "Testing starts...\n",
            "Test result - Average loss: 0.2084, Accuracy: 1980/10000 (19.8%)\n",
            "\n",
            "kmeans loss:  0.11138108372688293\n",
            "mean total loss 0.13165606407523156\n",
            "Testing starts...\n",
            "Test result - Average loss: 0.2072, Accuracy: 1881/10000 (18.8%)\n",
            "\n",
            "kmeans loss:  0.11142230033874512\n",
            "mean total loss 0.1317685663127899\n",
            "Testing starts...\n",
            "Test result - Average loss: 0.2100, Accuracy: 1973/10000 (19.7%)\n",
            "\n",
            "kmeans loss:  0.11149529367685318\n",
            "mean total loss 0.1319421228504181\n",
            "Testing starts...\n",
            "Test result - Average loss: 0.2137, Accuracy: 1740/10000 (17.4%)\n",
            "\n",
            "Best accuracy is 19.799999237060547%\n"
          ]
        }
      ],
      "source": [
        "EPOCHES = 200\n",
        "BATCHES = 10\n",
        "training_combined_complete(0.01)"
      ]
    },
    {
      "cell_type": "markdown",
      "metadata": {
        "id": "EfATV3-ul89M"
      },
      "source": [
        "### Try Resnet-Kmeans method with `label_ratio=0.05`"
      ]
    },
    {
      "cell_type": "code",
      "execution_count": null,
      "metadata": {
        "colab": {
          "base_uri": "https://localhost:8080/"
        },
        "id": "BUnRgGtzl0EJ",
        "outputId": "ac3598c6-e9aa-4c29-ca8d-f5be94889509"
      },
      "outputs": [
        {
          "name": "stdout",
          "output_type": "stream",
          "text": [
            "Teacher starts to be trained with labeled data...\n",
            "Loss on the training data: 0.012524021005630492\n",
            "Testing starts...\n",
            "Test result - Average loss: 0.0187, Accuracy: 4220/10000 (42.2%)\n",
            "\n",
            "kmeans loss:  0.013210974633693695\n",
            "mean total loss 0.03188006302595139\n",
            "Testing starts...\n",
            "Test result - Average loss: 0.0176, Accuracy: 3620/10000 (36.2%)\n",
            "\n",
            "kmeans loss:  0.01186029240489006\n",
            "mean total loss 0.03007884806871414\n",
            "Testing starts...\n",
            "Test result - Average loss: 0.0187, Accuracy: 3135/10000 (31.3%)\n",
            "\n",
            "kmeans loss:  0.011784980073571205\n",
            "mean total loss 0.028924771864414216\n",
            "Testing starts...\n",
            "Test result - Average loss: 0.0191, Accuracy: 3423/10000 (34.2%)\n",
            "\n",
            "kmeans loss:  0.011711805127561092\n",
            "mean total loss 0.028062045946121217\n",
            "Testing starts...\n",
            "Test result - Average loss: 0.0173, Accuracy: 3777/10000 (37.8%)\n",
            "\n",
            "kmeans loss:  0.011683761142194271\n",
            "mean total loss 0.02784132297039032\n",
            "Testing starts...\n",
            "Test result - Average loss: 0.0160, Accuracy: 4225/10000 (42.2%)\n",
            "\n",
            "kmeans loss:  0.011631540022790432\n",
            "mean total loss 0.027149846224784852\n",
            "Testing starts...\n",
            "Test result - Average loss: 0.0198, Accuracy: 3718/10000 (37.2%)\n",
            "\n",
            "kmeans loss:  0.011577975004911423\n",
            "mean total loss 0.02682139134168625\n",
            "Testing starts...\n",
            "Test result - Average loss: 0.0180, Accuracy: 3714/10000 (37.1%)\n",
            "\n",
            "kmeans loss:  0.011548393405973911\n",
            "mean total loss 0.0265929146027565\n",
            "Testing starts...\n",
            "Test result - Average loss: 0.0166, Accuracy: 4243/10000 (42.4%)\n",
            "\n",
            "kmeans loss:  0.01156601496040821\n",
            "mean total loss 0.026141371147632597\n",
            "Testing starts...\n",
            "Test result - Average loss: 0.0161, Accuracy: 4336/10000 (43.4%)\n",
            "\n",
            "kmeans loss:  0.0115134809166193\n",
            "mean total loss 0.0257618275141716\n",
            "Testing starts...\n",
            "Test result - Average loss: 0.0168, Accuracy: 4232/10000 (42.3%)\n",
            "\n",
            "kmeans loss:  0.011491077952086926\n",
            "mean total loss 0.025766206328868866\n",
            "Testing starts...\n",
            "Test result - Average loss: 0.0148, Accuracy: 4837/10000 (48.4%)\n",
            "\n",
            "kmeans loss:  0.01151726022362709\n",
            "mean total loss 0.025663204889297485\n",
            "Testing starts...\n",
            "Test result - Average loss: 0.0149, Accuracy: 4833/10000 (48.3%)\n",
            "\n",
            "kmeans loss:  0.011487461626529694\n",
            "mean total loss 0.025202868447303774\n",
            "Testing starts...\n",
            "Test result - Average loss: 0.0181, Accuracy: 4385/10000 (43.8%)\n",
            "\n",
            "kmeans loss:  0.011513990350067616\n",
            "mean total loss 0.025143240320682526\n",
            "Testing starts...\n",
            "Test result - Average loss: 0.0163, Accuracy: 4519/10000 (45.2%)\n",
            "\n",
            "Best accuracy is 48.369998931884766%\n"
          ]
        }
      ],
      "source": [
        "BATCHES = 100\n",
        "training_combined_complete(0.05)"
      ]
    },
    {
      "cell_type": "markdown",
      "metadata": {
        "id": "UKYh5SBOc8t2"
      },
      "source": [
        "### Try Resnet-Kmeans method with `label_ratio=0.1`"
      ]
    },
    {
      "cell_type": "code",
      "execution_count": null,
      "metadata": {
        "colab": {
          "base_uri": "https://localhost:8080/"
        },
        "id": "xWhAJ5eiAWsr",
        "outputId": "912e3274-a11d-4e2d-b6d7-ced2bddee905"
      },
      "outputs": [
        {
          "name": "stdout",
          "output_type": "stream",
          "text": [
            "Teacher starts to be trained with labeled data...\n",
            "Loss on the training data: 0.011213637590408325\n",
            "Testing starts...\n",
            "Test result - Average loss: 0.0149, Accuracy: 5143/10000 (51.4%)\n",
            "\n",
            "kmeans loss:  0.013871223796606064\n",
            "mean total loss 0.02940688495159149\n",
            "Testing starts...\n",
            "Test result - Average loss: 0.0163, Accuracy: 4194/10000 (41.9%)\n",
            "\n",
            "kmeans loss:  0.012064727804660797\n",
            "mean total loss 0.026774258503913878\n",
            "Testing starts...\n",
            "Test result - Average loss: 0.0163, Accuracy: 4270/10000 (42.7%)\n",
            "\n",
            "kmeans loss:  0.011999425902366637\n",
            "mean total loss 0.02592028670310974\n",
            "Testing starts...\n",
            "Test result - Average loss: 0.0141, Accuracy: 5017/10000 (50.2%)\n",
            "\n",
            "kmeans loss:  0.01183801806807518\n",
            "mean total loss 0.025365704154968263\n",
            "Testing starts...\n",
            "Test result - Average loss: 0.0159, Accuracy: 4622/10000 (46.2%)\n",
            "\n",
            "kmeans loss:  0.011731093353629112\n",
            "mean total loss 0.024943837697505952\n",
            "Testing starts...\n",
            "Test result - Average loss: 0.0152, Accuracy: 4657/10000 (46.6%)\n",
            "\n",
            "kmeans loss:  0.011698974598646165\n",
            "mean total loss 0.02447848507642746\n",
            "Testing starts...\n",
            "Test result - Average loss: 0.0140, Accuracy: 5193/10000 (51.9%)\n",
            "\n",
            "kmeans loss:  0.011630386663079261\n",
            "mean total loss 0.024116264719963074\n",
            "Testing starts...\n",
            "Test result - Average loss: 0.0168, Accuracy: 4724/10000 (47.2%)\n",
            "\n",
            "kmeans loss:  0.011618952551484108\n",
            "mean total loss 0.023851243288517\n",
            "Testing starts...\n",
            "Test result - Average loss: 0.0143, Accuracy: 5124/10000 (51.2%)\n",
            "\n",
            "kmeans loss:  0.01157121157437563\n",
            "mean total loss 0.023436423709392546\n",
            "Testing starts...\n",
            "Test result - Average loss: 0.0131, Accuracy: 5339/10000 (53.4%)\n",
            "\n",
            "kmeans loss:  0.011577976111769675\n",
            "mean total loss 0.02321698955774307\n",
            "Testing starts...\n",
            "Test result - Average loss: 0.0136, Accuracy: 5238/10000 (52.4%)\n",
            "\n",
            "kmeans loss:  0.01158805227637291\n",
            "mean total loss 0.02317318197488785\n",
            "Testing starts...\n",
            "Test result - Average loss: 0.0138, Accuracy: 5430/10000 (54.3%)\n",
            "\n",
            "kmeans loss:  0.011515277948528527\n",
            "mean total loss 0.02273223386526108\n",
            "Testing starts...\n",
            "Test result - Average loss: 0.0131, Accuracy: 5552/10000 (55.5%)\n",
            "\n",
            "kmeans loss:  0.011498943009376527\n",
            "mean total loss 0.022661281526088716\n",
            "Testing starts...\n",
            "Test result - Average loss: 0.0142, Accuracy: 5255/10000 (52.5%)\n",
            "\n",
            "kmeans loss:  0.011472347760498524\n",
            "mean total loss 0.022274503979682923\n",
            "Testing starts...\n",
            "Test result - Average loss: 0.0131, Accuracy: 5593/10000 (55.9%)\n",
            "\n",
            "kmeans loss:  0.011487232374548913\n",
            "mean total loss 0.022089138796329497\n",
            "Testing starts...\n",
            "Test result - Average loss: 0.0140, Accuracy: 5500/10000 (55.0%)\n",
            "\n",
            "kmeans loss:  0.01146297546453774\n",
            "mean total loss 0.0219386190700531\n",
            "Testing starts...\n",
            "Test result - Average loss: 0.0131, Accuracy: 5603/10000 (56.0%)\n",
            "\n",
            "kmeans loss:  0.011428655802309513\n",
            "mean total loss 0.021843727819919587\n",
            "Testing starts...\n",
            "Test result - Average loss: 0.0134, Accuracy: 5721/10000 (57.2%)\n",
            "\n",
            "kmeans loss:  0.011440960227549077\n",
            "mean total loss 0.02164094815969467\n",
            "Testing starts...\n",
            "Test result - Average loss: 0.0124, Accuracy: 5835/10000 (58.3%)\n",
            "\n",
            "kmeans loss:  0.01148587865382433\n",
            "mean total loss 0.021212034826278686\n",
            "Testing starts...\n",
            "Test result - Average loss: 0.0139, Accuracy: 5442/10000 (54.4%)\n",
            "\n",
            "kmeans loss:  0.011435311081111432\n",
            "mean total loss 0.021248567762374878\n",
            "Testing starts...\n",
            "Test result - Average loss: 0.0124, Accuracy: 5843/10000 (58.4%)\n",
            "\n",
            "kmeans loss:  0.01143856594502926\n",
            "mean total loss 0.021008327205181122\n",
            "Testing starts...\n",
            "Test result - Average loss: 0.0143, Accuracy: 5461/10000 (54.6%)\n",
            "\n",
            "kmeans loss:  0.011423303916454314\n",
            "mean total loss 0.02086644228219986\n",
            "Testing starts...\n",
            "Test result - Average loss: 0.0130, Accuracy: 5693/10000 (56.9%)\n",
            "\n",
            "kmeans loss:  0.011422861871868372\n",
            "mean total loss 0.02054340914487839\n",
            "Testing starts...\n",
            "Test result - Average loss: 0.0126, Accuracy: 5869/10000 (58.7%)\n",
            "\n",
            "kmeans loss:  0.011437860710024833\n",
            "mean total loss 0.020402741844654085\n",
            "Testing starts...\n",
            "Test result - Average loss: 0.0129, Accuracy: 5935/10000 (59.3%)\n",
            "\n",
            "kmeans loss:  0.011403531361818313\n",
            "mean total loss 0.020429601736068725\n",
            "Testing starts...\n",
            "Test result - Average loss: 0.0153, Accuracy: 5393/10000 (53.9%)\n",
            "\n",
            "kmeans loss:  0.011373887408673762\n",
            "mean total loss 0.02021992889404297\n",
            "Testing starts...\n",
            "Test result - Average loss: 0.0153, Accuracy: 5532/10000 (55.3%)\n",
            "\n",
            "kmeans loss:  0.011376219692379235\n",
            "mean total loss 0.020078224148750306\n",
            "Testing starts...\n",
            "Test result - Average loss: 0.0126, Accuracy: 5955/10000 (59.5%)\n",
            "\n",
            "kmeans loss:  0.011379066600389778\n",
            "mean total loss 0.019900304272174835\n",
            "Testing starts...\n",
            "Test result - Average loss: 0.0124, Accuracy: 6121/10000 (61.2%)\n",
            "\n",
            "kmeans loss:  0.011323113223016263\n",
            "mean total loss 0.019810718476772307\n",
            "Testing starts...\n",
            "Test result - Average loss: 0.0141, Accuracy: 5796/10000 (58.0%)\n",
            "\n",
            "kmeans loss:  0.011372192560434341\n",
            "mean total loss 0.019571390216350557\n",
            "Testing starts...\n",
            "Test result - Average loss: 0.0152, Accuracy: 5507/10000 (55.1%)\n",
            "\n",
            "kmeans loss:  0.011414843440651894\n",
            "mean total loss 0.019375637969970702\n",
            "Testing starts...\n",
            "Test result - Average loss: 0.0132, Accuracy: 5908/10000 (59.1%)\n",
            "\n",
            "Best accuracy is 61.209999084472656%\n"
          ]
        }
      ],
      "source": [
        "training_combined_complete(0.1)"
      ]
    },
    {
      "cell_type": "markdown",
      "metadata": {
        "id": "hj9osmJsdBsZ"
      },
      "source": [
        "### Try Resnet-Kmeans method with `label_ratio=0.3`"
      ]
    },
    {
      "cell_type": "code",
      "execution_count": null,
      "metadata": {
        "colab": {
          "base_uri": "https://localhost:8080/"
        },
        "id": "2l5ZFEohDnfM",
        "outputId": "905ee787-7eb8-4994-c71b-ceb01981cb40"
      },
      "outputs": [
        {
          "name": "stdout",
          "output_type": "stream",
          "text": [
            "Teacher starts to be trained with labeled data...\n",
            "Loss on the training data: 0.008352892430623373\n",
            "Testing starts...\n",
            "Test result - Average loss: 0.0107, Accuracy: 6553/10000 (65.5%)\n",
            "\n",
            "kmeans loss:  0.014212156769037247\n",
            "mean total loss 0.024162908594608307\n",
            "Testing starts...\n",
            "Test result - Average loss: 0.0120, Accuracy: 6061/10000 (60.6%)\n",
            "\n",
            "kmeans loss:  0.012182199214696885\n",
            "mean total loss 0.021831735804080963\n",
            "Testing starts...\n",
            "Test result - Average loss: 0.0106, Accuracy: 6422/10000 (64.2%)\n",
            "\n",
            "kmeans loss:  0.01187744814157486\n",
            "mean total loss 0.021088672134876252\n",
            "Testing starts...\n",
            "Test result - Average loss: 0.0126, Accuracy: 5912/10000 (59.1%)\n",
            "\n",
            "kmeans loss:  0.011737910906672477\n",
            "mean total loss 0.02075994631767273\n",
            "Testing starts...\n",
            "Test result - Average loss: 0.0137, Accuracy: 5658/10000 (56.6%)\n",
            "\n",
            "kmeans loss:  0.011645719663500786\n",
            "mean total loss 0.020482404303550722\n",
            "Testing starts...\n",
            "Test result - Average loss: 0.0111, Accuracy: 6462/10000 (64.6%)\n",
            "\n",
            "kmeans loss:  0.011621889114379882\n",
            "mean total loss 0.020100606570243835\n",
            "Testing starts...\n",
            "Test result - Average loss: 0.0120, Accuracy: 6242/10000 (62.4%)\n",
            "\n",
            "kmeans loss:  0.011603143510818481\n",
            "mean total loss 0.019798310236930846\n",
            "Testing starts...\n",
            "Test result - Average loss: 0.0106, Accuracy: 6619/10000 (66.2%)\n",
            "\n",
            "kmeans loss:  0.011495973855257035\n",
            "mean total loss 0.019583072867393494\n",
            "Testing starts...\n",
            "Test result - Average loss: 0.0106, Accuracy: 6611/10000 (66.1%)\n",
            "\n",
            "kmeans loss:  0.011494519879817963\n",
            "mean total loss 0.019325078032016753\n",
            "Testing starts...\n",
            "Test result - Average loss: 0.0116, Accuracy: 6489/10000 (64.9%)\n",
            "\n",
            "kmeans loss:  0.011497993957996368\n",
            "mean total loss 0.019184868397712707\n",
            "Testing starts...\n",
            "Test result - Average loss: 0.0100, Accuracy: 6805/10000 (68.0%)\n",
            "\n",
            "kmeans loss:  0.011424786613583565\n",
            "mean total loss 0.01887276099920273\n",
            "Testing starts...\n",
            "Test result - Average loss: 0.0097, Accuracy: 6890/10000 (68.9%)\n",
            "\n",
            "kmeans loss:  0.011452190034389496\n",
            "mean total loss 0.01879042624950409\n",
            "Testing starts...\n",
            "Test result - Average loss: 0.0095, Accuracy: 6933/10000 (69.3%)\n",
            "\n",
            "kmeans loss:  0.011445848776102066\n",
            "mean total loss 0.018709288773536684\n",
            "Testing starts...\n",
            "Test result - Average loss: 0.0095, Accuracy: 7019/10000 (70.2%)\n",
            "\n",
            "kmeans loss:  0.011390806757211686\n",
            "mean total loss 0.018383009099960327\n",
            "Testing starts...\n",
            "Test result - Average loss: 0.0090, Accuracy: 7134/10000 (71.3%)\n",
            "\n",
            "kmeans loss:  0.01144068738669157\n",
            "mean total loss 0.01837031695842743\n",
            "Testing starts...\n",
            "Test result - Average loss: 0.0089, Accuracy: 7236/10000 (72.4%)\n",
            "\n",
            "kmeans loss:  0.011422213085293769\n",
            "mean total loss 0.018153523128032683\n",
            "Testing starts...\n",
            "Test result - Average loss: 0.0100, Accuracy: 6943/10000 (69.4%)\n",
            "\n",
            "kmeans loss:  0.011387278358638286\n",
            "mean total loss 0.017987265648841858\n",
            "Testing starts...\n",
            "Test result - Average loss: 0.0104, Accuracy: 6901/10000 (69.0%)\n",
            "\n",
            "kmeans loss:  0.011351921817958355\n",
            "mean total loss 0.017942154443264007\n",
            "Testing starts...\n",
            "Test result - Average loss: 0.0101, Accuracy: 6898/10000 (69.0%)\n",
            "\n",
            "Best accuracy is 72.36000061035156%\n"
          ]
        }
      ],
      "source": [
        "training_combined_complete(0.3)"
      ]
    },
    {
      "cell_type": "markdown",
      "metadata": {
        "id": "w2MbEK2ldI5J"
      },
      "source": [
        "### Try Resnet-Kmeans method with `label_ratio=0.5`"
      ]
    },
    {
      "cell_type": "code",
      "execution_count": null,
      "metadata": {
        "colab": {
          "base_uri": "https://localhost:8080/"
        },
        "id": "WSQoSauuPmFY",
        "outputId": "785ba906-99ef-4a97-89f9-bcd50f19d9f0"
      },
      "outputs": [
        {
          "name": "stdout",
          "output_type": "stream",
          "text": [
            "Teacher starts to be trained with labeled data...\n",
            "Loss on the training data: 0.007031093447208404\n",
            "Testing starts...\n",
            "Test result - Average loss: 0.0087, Accuracy: 7138/10000 (71.4%)\n",
            "\n",
            "kmeans loss:  0.013681236841082573\n",
            "mean total loss 0.021717731413841247\n",
            "Testing starts...\n",
            "Test result - Average loss: 0.0098, Accuracy: 6738/10000 (67.4%)\n",
            "\n",
            "kmeans loss:  0.012058525638580323\n",
            "mean total loss 0.01987470884799957\n",
            "Testing starts...\n",
            "Test result - Average loss: 0.0091, Accuracy: 6932/10000 (69.3%)\n",
            "\n",
            "kmeans loss:  0.011792267298102378\n",
            "mean total loss 0.019187329194545747\n",
            "Testing starts...\n",
            "Test result - Average loss: 0.0096, Accuracy: 6889/10000 (68.9%)\n",
            "\n",
            "kmeans loss:  0.011680267489552499\n",
            "mean total loss 0.018931614379882812\n",
            "Testing starts...\n",
            "Test result - Average loss: 0.0096, Accuracy: 6862/10000 (68.6%)\n",
            "\n",
            "kmeans loss:  0.011607055541276931\n",
            "mean total loss 0.018577202091217042\n",
            "Testing starts...\n",
            "Test result - Average loss: 0.0093, Accuracy: 6995/10000 (69.9%)\n",
            "\n",
            "kmeans loss:  0.01153370698094368\n",
            "mean total loss 0.018296331706047057\n",
            "Testing starts...\n",
            "Test result - Average loss: 0.0088, Accuracy: 7132/10000 (71.3%)\n",
            "\n",
            "kmeans loss:  0.011467293034791947\n",
            "mean total loss 0.01806046597480774\n",
            "Testing starts...\n",
            "Test result - Average loss: 0.0088, Accuracy: 7194/10000 (71.9%)\n",
            "\n",
            "kmeans loss:  0.011531403672695159\n",
            "mean total loss 0.0180022389960289\n",
            "Testing starts...\n",
            "Test result - Average loss: 0.0083, Accuracy: 7255/10000 (72.5%)\n",
            "\n",
            "kmeans loss:  0.011436995137929916\n",
            "mean total loss 0.017833178470134735\n",
            "Testing starts...\n",
            "Test result - Average loss: 0.0084, Accuracy: 7281/10000 (72.8%)\n",
            "\n",
            "kmeans loss:  0.011414608201384544\n",
            "mean total loss 0.017645876643657684\n",
            "Testing starts...\n",
            "Test result - Average loss: 0.0088, Accuracy: 7149/10000 (71.5%)\n",
            "\n",
            "kmeans loss:  0.011459111036062241\n",
            "mean total loss 0.017528849108219148\n",
            "Testing starts...\n",
            "Test result - Average loss: 0.0089, Accuracy: 7200/10000 (72.0%)\n",
            "\n",
            "kmeans loss:  0.011407444754242897\n",
            "mean total loss 0.01726671201467514\n",
            "Testing starts...\n",
            "Test result - Average loss: 0.0090, Accuracy: 7144/10000 (71.4%)\n",
            "\n",
            "Best accuracy is 72.80999755859375%\n"
          ]
        }
      ],
      "source": [
        "training_combined_complete(0.5)"
      ]
    },
    {
      "cell_type": "markdown",
      "metadata": {
        "id": "ttfT84060054"
      },
      "source": [
        "# Result and Discussion"
      ]
    },
    {
      "cell_type": "markdown",
      "metadata": {
        "id": "Ir-Pk6M7LiYU"
      },
      "source": [
        "## Table and plot"
      ]
    },
    {
      "cell_type": "markdown",
      "metadata": {
        "id": "wzsJ0T6LH_3k"
      },
      "source": [
        "Using outcomes of the experiment, we generate a table and two plots to display the outcomes for both 2 methods"
      ]
    },
    {
      "cell_type": "code",
      "execution_count": null,
      "metadata": {
        "colab": {
          "base_uri": "https://localhost:8080/",
          "height": 363
        },
        "id": "5pQ2r3dDLpFk",
        "outputId": "67f506ea-0798-4e57-b7d8-db5d5df395a2"
      },
      "outputs": [
        {
          "data": {
            "text/html": [
              "<style type=\"text/css\">\n",
              "#T_03e12 th {\n",
              "  background-color: #4CAF50;\n",
              "  color: white;\n",
              "}\n",
              "#T_03e12 tbody tr:nth-child(even) {\n",
              "  background-color: #f2f2f2;\n",
              "}\n",
              "#T_03e12 tbody tr:nth-child(odd) {\n",
              "  background-color: white;\n",
              "}\n",
              "#T_03e12_row0_col0, #T_03e12_row0_col1, #T_03e12_row0_col2, #T_03e12_row0_col3, #T_03e12_row0_col4, #T_03e12_row1_col0, #T_03e12_row1_col1, #T_03e12_row1_col2, #T_03e12_row1_col3, #T_03e12_row1_col4, #T_03e12_row2_col0, #T_03e12_row2_col1, #T_03e12_row2_col2, #T_03e12_row2_col3, #T_03e12_row2_col4, #T_03e12_row3_col0, #T_03e12_row3_col1, #T_03e12_row3_col2, #T_03e12_row3_col3, #T_03e12_row3_col4, #T_03e12_row4_col0, #T_03e12_row4_col1, #T_03e12_row4_col2, #T_03e12_row4_col3, #T_03e12_row4_col4, #T_03e12_row5_col0, #T_03e12_row5_col1, #T_03e12_row5_col2, #T_03e12_row5_col3, #T_03e12_row6_col0, #T_03e12_row6_col1, #T_03e12_row6_col2, #T_03e12_row6_col3, #T_03e12_row7_col0, #T_03e12_row7_col1, #T_03e12_row7_col2, #T_03e12_row7_col3, #T_03e12_row8_col0, #T_03e12_row8_col1, #T_03e12_row8_col2, #T_03e12_row8_col3, #T_03e12_row9_col0, #T_03e12_row9_col1, #T_03e12_row9_col2, #T_03e12_row9_col3 {\n",
              "  border: 1px solid black;\n",
              "  text-align: center;\n",
              "  font-size: 14px;\n",
              "  padding: 4px 8px;\n",
              "}\n",
              "#T_03e12_row5_col4, #T_03e12_row6_col4, #T_03e12_row7_col4, #T_03e12_row8_col4, #T_03e12_row9_col4 {\n",
              "  background-color: #f2f2f2;\n",
              "  border: 1px solid black;\n",
              "  text-align: center;\n",
              "  font-size: 14px;\n",
              "  padding: 4px 8px;\n",
              "}\n",
              "</style>\n",
              "<table id=\"T_03e12\" class=\"dataframe\">\n",
              "  <thead>\n",
              "    <tr>\n",
              "      <th class=\"blank level0\" >&nbsp;</th>\n",
              "      <th id=\"T_03e12_level0_col0\" class=\"col_heading level0 col0\" >Method</th>\n",
              "      <th id=\"T_03e12_level0_col1\" class=\"col_heading level0 col1\" >Label Ratio</th>\n",
              "      <th id=\"T_03e12_level0_col2\" class=\"col_heading level0 col2\" >Initial Accuracy</th>\n",
              "      <th id=\"T_03e12_level0_col3\" class=\"col_heading level0 col3\" >Final Accuracy</th>\n",
              "      <th id=\"T_03e12_level0_col4\" class=\"col_heading level0 col4\" >Final Label Data Size</th>\n",
              "    </tr>\n",
              "  </thead>\n",
              "  <tbody>\n",
              "    <tr>\n",
              "      <th id=\"T_03e12_level0_row0\" class=\"row_heading level0 row0\" >0</th>\n",
              "      <td id=\"T_03e12_row0_col0\" class=\"data row0 col0\" >Pseudo-labelling</td>\n",
              "      <td id=\"T_03e12_row0_col1\" class=\"data row0 col1\" >0.010000</td>\n",
              "      <td id=\"T_03e12_row0_col2\" class=\"data row0 col2\" >31.600000</td>\n",
              "      <td id=\"T_03e12_row0_col3\" class=\"data row0 col3\" >37.400000</td>\n",
              "      <td id=\"T_03e12_row0_col4\" class=\"data row0 col4\" >6949</td>\n",
              "    </tr>\n",
              "    <tr>\n",
              "      <th id=\"T_03e12_level0_row1\" class=\"row_heading level0 row1\" >1</th>\n",
              "      <td id=\"T_03e12_row1_col0\" class=\"data row1 col0\" >Pseudo-labelling</td>\n",
              "      <td id=\"T_03e12_row1_col1\" class=\"data row1 col1\" >0.050000</td>\n",
              "      <td id=\"T_03e12_row1_col2\" class=\"data row1 col2\" >44.500000</td>\n",
              "      <td id=\"T_03e12_row1_col3\" class=\"data row1 col3\" >53.100000</td>\n",
              "      <td id=\"T_03e12_row1_col4\" class=\"data row1 col4\" >5948</td>\n",
              "    </tr>\n",
              "    <tr>\n",
              "      <th id=\"T_03e12_level0_row2\" class=\"row_heading level0 row2\" >2</th>\n",
              "      <td id=\"T_03e12_row2_col0\" class=\"data row2 col0\" >Pseudo-labelling</td>\n",
              "      <td id=\"T_03e12_row2_col1\" class=\"data row2 col1\" >0.100000</td>\n",
              "      <td id=\"T_03e12_row2_col2\" class=\"data row2 col2\" >53.900000</td>\n",
              "      <td id=\"T_03e12_row2_col3\" class=\"data row2 col3\" >61.800000</td>\n",
              "      <td id=\"T_03e12_row2_col4\" class=\"data row2 col4\" >15679</td>\n",
              "    </tr>\n",
              "    <tr>\n",
              "      <th id=\"T_03e12_level0_row3\" class=\"row_heading level0 row3\" >3</th>\n",
              "      <td id=\"T_03e12_row3_col0\" class=\"data row3 col0\" >Pseudo-labelling</td>\n",
              "      <td id=\"T_03e12_row3_col1\" class=\"data row3 col1\" >0.300000</td>\n",
              "      <td id=\"T_03e12_row3_col2\" class=\"data row3 col2\" >61.800000</td>\n",
              "      <td id=\"T_03e12_row3_col3\" class=\"data row3 col3\" >71.100000</td>\n",
              "      <td id=\"T_03e12_row3_col4\" class=\"data row3 col4\" >27254</td>\n",
              "    </tr>\n",
              "    <tr>\n",
              "      <th id=\"T_03e12_level0_row4\" class=\"row_heading level0 row4\" >4</th>\n",
              "      <td id=\"T_03e12_row4_col0\" class=\"data row4 col0\" >Pseudo-labelling</td>\n",
              "      <td id=\"T_03e12_row4_col1\" class=\"data row4 col1\" >0.500000</td>\n",
              "      <td id=\"T_03e12_row4_col2\" class=\"data row4 col2\" >66.600000</td>\n",
              "      <td id=\"T_03e12_row4_col3\" class=\"data row4 col3\" >73.600000</td>\n",
              "      <td id=\"T_03e12_row4_col4\" class=\"data row4 col4\" >29849</td>\n",
              "    </tr>\n",
              "    <tr>\n",
              "      <th id=\"T_03e12_level0_row5\" class=\"row_heading level0 row5\" >5</th>\n",
              "      <td id=\"T_03e12_row5_col0\" class=\"data row5 col0\" >Resnet-Kmeans</td>\n",
              "      <td id=\"T_03e12_row5_col1\" class=\"data row5 col1\" >0.010000</td>\n",
              "      <td id=\"T_03e12_row5_col2\" class=\"data row5 col2\" >28.400000</td>\n",
              "      <td id=\"T_03e12_row5_col3\" class=\"data row5 col3\" >19.800000</td>\n",
              "      <td id=\"T_03e12_row5_col4\" class=\"data row5 col4\" >-</td>\n",
              "    </tr>\n",
              "    <tr>\n",
              "      <th id=\"T_03e12_level0_row6\" class=\"row_heading level0 row6\" >6</th>\n",
              "      <td id=\"T_03e12_row6_col0\" class=\"data row6 col0\" >Resnet-Kmeans</td>\n",
              "      <td id=\"T_03e12_row6_col1\" class=\"data row6 col1\" >0.050000</td>\n",
              "      <td id=\"T_03e12_row6_col2\" class=\"data row6 col2\" >42.200000</td>\n",
              "      <td id=\"T_03e12_row6_col3\" class=\"data row6 col3\" >48.400000</td>\n",
              "      <td id=\"T_03e12_row6_col4\" class=\"data row6 col4\" >-</td>\n",
              "    </tr>\n",
              "    <tr>\n",
              "      <th id=\"T_03e12_level0_row7\" class=\"row_heading level0 row7\" >7</th>\n",
              "      <td id=\"T_03e12_row7_col0\" class=\"data row7 col0\" >Resnet-Kmeans</td>\n",
              "      <td id=\"T_03e12_row7_col1\" class=\"data row7 col1\" >0.100000</td>\n",
              "      <td id=\"T_03e12_row7_col2\" class=\"data row7 col2\" >51.400000</td>\n",
              "      <td id=\"T_03e12_row7_col3\" class=\"data row7 col3\" >61.200000</td>\n",
              "      <td id=\"T_03e12_row7_col4\" class=\"data row7 col4\" >-</td>\n",
              "    </tr>\n",
              "    <tr>\n",
              "      <th id=\"T_03e12_level0_row8\" class=\"row_heading level0 row8\" >8</th>\n",
              "      <td id=\"T_03e12_row8_col0\" class=\"data row8 col0\" >Resnet-Kmeans</td>\n",
              "      <td id=\"T_03e12_row8_col1\" class=\"data row8 col1\" >0.300000</td>\n",
              "      <td id=\"T_03e12_row8_col2\" class=\"data row8 col2\" >65.500000</td>\n",
              "      <td id=\"T_03e12_row8_col3\" class=\"data row8 col3\" >72.400000</td>\n",
              "      <td id=\"T_03e12_row8_col4\" class=\"data row8 col4\" >-</td>\n",
              "    </tr>\n",
              "    <tr>\n",
              "      <th id=\"T_03e12_level0_row9\" class=\"row_heading level0 row9\" >9</th>\n",
              "      <td id=\"T_03e12_row9_col0\" class=\"data row9 col0\" >Resnet-Kmeans</td>\n",
              "      <td id=\"T_03e12_row9_col1\" class=\"data row9 col1\" >0.500000</td>\n",
              "      <td id=\"T_03e12_row9_col2\" class=\"data row9 col2\" >71.400000</td>\n",
              "      <td id=\"T_03e12_row9_col3\" class=\"data row9 col3\" >72.800000</td>\n",
              "      <td id=\"T_03e12_row9_col4\" class=\"data row9 col4\" >-</td>\n",
              "    </tr>\n",
              "  </tbody>\n",
              "</table>\n"
            ],
            "text/plain": [
              "<pandas.io.formats.style.Styler at 0x7fdfb89daf40>"
            ]
          },
          "metadata": {},
          "output_type": "display_data"
        }
      ],
      "source": [
        "data = [['Pseudo-labelling', 0.01, 31.6, 37.4, 6949],\n",
        "        ['Pseudo-labelling', 0.05, 44.5, 53.1, 5948],\n",
        "        ['Pseudo-labelling', 0.1, 53.9, 61.8, 15679],\n",
        "        ['Pseudo-labelling', 0.3, 61.8, 71.1, 27254],\n",
        "        ['Pseudo-labelling', 0.5, 66.6, 73.6, 29849],\n",
        "        ['Resnet-Kmeans', 0.01, 28.4, 19.8, '-'],\n",
        "        ['Resnet-Kmeans', 0.05, 42.2, 48.4, '-'],\n",
        "        ['Resnet-Kmeans', 0.1, 51.4, 61.2, '-'],\n",
        "        ['Resnet-Kmeans', 0.3, 65.5, 72.4, '-'],\n",
        "        ['Resnet-Kmeans', 0.5, 71.4, 72.8, '-']]\n",
        "\n",
        "df = pd.DataFrame(data, columns=['Method', 'Label Ratio', 'Initial Accuracy', 'Final Accuracy', 'Final Label Data Size'])\n",
        "\n",
        "styled_df = df.style.applymap(lambda x: 'background-color: #f2f2f2' if x == '-' else '')\n",
        "\n",
        "styled_df = styled_df.set_properties(**{'border': '1px solid black', 'text-align': 'center', 'font-size': '14px', 'padding': '4px 8px'})\n",
        "\n",
        "styled_df = styled_df.set_table_styles([{\n",
        "    'selector': 'th',\n",
        "    'props': [('background-color', '#4CAF50'), ('color', 'white')]\n",
        "    },\n",
        "    {\n",
        "    'selector': 'tbody tr:nth-child(even)',\n",
        "    'props': [('background-color', '#f2f2f2')]\n",
        "    },\n",
        "    {\n",
        "    'selector': 'tbody tr:nth-child(odd)',\n",
        "    'props': [('background-color', 'white')]\n",
        "    }])\n",
        "\n",
        "display(styled_df)\n"
      ]
    },
    {
      "cell_type": "code",
      "execution_count": null,
      "metadata": {
        "colab": {
          "base_uri": "https://localhost:8080/",
          "height": 504
        },
        "id": "YI0rGFEUpdk7",
        "outputId": "7cd041f6-ee12-4b32-9da5-b225f3415e24"
      },
      "outputs": [
        {
          "name": "stdout",
          "output_type": "stream",
          "text": [
            "<pandas.io.formats.style.Styler object at 0x7fe080189c10>\n"
          ]
        },
        {
          "data": {
            "image/png": "[encoded data removed]",
            "text/plain": [
              "<Figure size 1200x500 with 2 Axes>"
            ]
          },
          "metadata": {},
          "output_type": "display_data"
        }
      ],
      "source": [
        "df['Increased Accuracy'] = df['Final Accuracy'] - df['Initial Accuracy']\n",
        "df1 = df[df['Method']=='Pseudo-labelling']\n",
        "df2 = df[df['Method']=='Resnet-Kmeans']\n",
        "\n",
        "\n",
        "fig, axs = plt.subplots(1, 2, figsize=(12, 5))\n",
        "\n",
        "axs[0].plot(df1['Label Ratio'], df1['Final Accuracy'], label='Pseudo-labelling: Final Accuracy')\n",
        "axs[0].plot(df2['Label Ratio'], df2['Final Accuracy'], label='Resnet-Kmeans: Final Accuracy')\n",
        "axs[0].set_xlabel('Label Ratio')\n",
        "axs[0].set_ylabel('Final Accuracy')\n",
        "axs[0].set_title('Final Accuracy vs Label Ratio')\n",
        "axs[0].legend()\n",
        "\n",
        "axs[1].plot(df1['Label Ratio'], df1['Increased Accuracy'], label='Pseudo-labelling')\n",
        "axs[1].plot(df2['Label Ratio'], df2['Increased Accuracy'], label='Resnet-Kmeans')\n",
        "axs[1].set_xlabel('Label Ratio')\n",
        "axs[1].set_ylabel('Increased Accuracy')\n",
        "axs[1].set_title('Increased Accuracy vs Label Ratio')\n",
        "axs[1].legend()\n",
        "\n",
        "plt.show()"
      ]
    },
    {
      "cell_type": "markdown",
      "metadata": {
        "id": "52gjUv03Dpr7"
      },
      "source": [
        "## Pseudo-Labelling\n",
        "In the results and discussion section, we first analyze the performance of the Pseudo-labelling model. Regardless of the label_ratio settings, the final accuracy is consistently higher than the initial accuracy. As illustrated in the increased accuracy graph, the improvement in accuracy remains relatively stable at around 7.5% and exhibits an overall trend of first increasing and then decreasing. This implies that when the label ratio is low, the effect of pseudo-labeling is not optimal. As the label ratio increases, the improvement in accuracy generally rises. However, as the initial accuracy increases, the model's performance gradually approaches the best performance achievable using all data (75%-80%), thus leaving less room for improvement. Consequently, when the label ratio is 0.5, using pseudo-labelling results in an accuracy improvement of only 7%. Furthermore, the change in the labeled dataset's size is not directly correlated with the model's performance due to the quality of pseudo-labels. By comparing the cases where label_ratio is 0.01 and 0.05, we can observe that with a label_ratio of 0.1, pseudo-labelling adds a significant amount of labeled data, even more than when the label_ratio is 0.05, but the performance improvement is not outstanding. In addition, when label_ratio is 0.5, although only adding less than 5,000 labeled data points, the model's performance improves considerably."
      ]
    },
    {
      "cell_type": "markdown",
      "metadata": {
        "id": "7oQ7JqQxD5L8"
      },
      "source": [
        "## Resnet-Kmeans\n",
        "Next, we examine the results of the ResNet-KMeans model. . However, the results reveal an issue: when label_ratio is 0.01, the ResNet-KMeans model does not perform well, even leading to a decline in performance. This issue was considered during our initial experiment and contributed to our adoption of the current model structure. In the present structure, the KMeans clustering loss is combined only after obtaining a trained ResNet, whereas the previous structure combined the KMeans clustering loss from the outset. The performance of the earlier model was significantly poorer, and the KMeans clustering loss hardly converged. We considered whether inappropriate learning rates, KMeans loss weights, initial centroids, or model complexity caused this issue, but after extensive testing and deliberation, we identified the problem. When training begins, the model performs poorly, resulting in weak deep feature representation capabilities. This implies that, at this stage, combining the KMeans clustering loss with cross-entropy is not meaningful and may even have adverse effects. Taking this issue into account, we modified the structure, allowing KMeans to be incorporated into training after the initial ResNet training. Although the new structure resolves the aforementioned issue, when the label ratio is extremely low, the model's performance remains poor even after initial training, rendering KMeans ineffective. This issue is absent when label_ratio is 0.05 or higher. Furthermore, we note that the improvement in accuracy in the ResNet-KMeans model also exhibits an overall trend of first increasing and then decreasing, with the highest increase at label_ratio 0.1. When label_ratio is 0.5, the improvement is minimal, possibly due to limited room for improvement caused by a higher initial accuracy."
      ]
    },
    {
      "cell_type": "markdown",
      "metadata": {
        "id": "Uu3HjrArEUac"
      },
      "source": [
        "## Comparison\n",
        "Comparing both models, it is evident that the initial accuracies are generally similar across different label_ratios, as both methods employ the same supervised model (ResNet) structure, albeit influenced by randomness. The overall trend in accuracy improvement for both models is similar, with the improvement first increasing and then decreasing. The ResNet-KMeans model demonstrated slightly lower final accuracy than the Pseudo-labelling model. However, it is important to note that the training time for the ResNet-KMeans model was significantly shorter, as it only required one initial supervised model training and single-epoch iterations in subsequent steps.\n",
        "\n",
        "Another aspect to consider in the comparison is the stability and consistency of the models. While Pseudo-labelling exhibited a more stable accuracy improvement across different label_ratios, the ResNet-KMeans model showed more variation, particularly struggling at extremely low label_ratios. Additionally, the impact of the quality of pseudo-labels on Pseudo-labelling performance and the limitations of ResNet-KMeans due to poor deep feature representation capabilities at low label_ratios highlight the specific challenges each model faces."
      ]
    },
    {
      "cell_type": "markdown",
      "metadata": {
        "id": "WCjidLJT053G"
      },
      "source": [
        "# Conclusion\n",
        "In conclusion, both Pseudo-labelling and ResNet-KMeans models offer unique advantages and face certain limitations in semi-supervised learning. Pseudo-labelling provides consistent accuracy improvements across varying label_ratios but may require more computational resources due to the need to train a new supervised model in each iteration. On the other hand, the ResNet-KMeans model can achieve substantial accuracy improvements at higher label_ratios and offers a more efficient training process but may struggle with extremely low label_ratios.\n",
        "\n",
        "The choice between these two approaches should be based on the specific requirements and constraints of a given problem and the available resources. It is crucial to consider factors such as computational efficiency, model stability, and performance consistency when selecting the appropriate semi-supervised learning model for a particular task."
      ]
    },
    {
      "cell_type": "markdown",
      "metadata": {
        "id": "TLOvvzVvHuel"
      },
      "source": [
        "# Future Study\n",
        "\n",
        "In this study, due to time constraints and the focus on utilizing unlabeled data to improve model performance, our exploration of the supervised model structures might not have been exhaustive, and the models used might not be optimal. If given more time, we would attempt to further explore various model structures to achieve better performance. Additionally, we could perform multiple training runs for each label_ratio and take the average results to obtain more reliable outcomes.\n",
        "\n",
        "Moreover, future research may investigate a broader range of semi-supervised learning model structures and examine the performance of different loss functions in this context. This study's time limitations also prevented us from thoroughly tuning the threshold for generating pseudo-labels and other hyperparameters, such as learning rate and batch size. Although we manually adjusted these parameters in several iterations, they might not be the best choices. Therefore, future studies could dedicate more time to hyperparameter tuning and optimization to enhance model performance.\n",
        "\n",
        "Investigating the impact of different data distributions, noise levels, and data modalities on the performance of Pseudo-labelling and ResNet-KMeans models would also be valuable. Developing hybrid approaches that combine the strengths of both models, or incorporating other techniques such as active learning, could lead to more robust and efficient semi-supervised learning solutions. Finally, evaluating the practical utility and effectiveness of these models in various real-world applications, such as healthcare, finance, and natural language processing, could provide valuable insights into their potential use cases."
      ]
    }
  ],
  "metadata": {
    "colab": {
      "provenance": [],
      "toc_visible": true
    },
    "gpuClass": "standard",
    "kernelspec": {
      "display_name": "Python 3",
      "name": "python3"
    },
    "language_info": {
      "name": "python"
    }
  },
  "nbformat": 4,
  "nbformat_minor": 0
}
